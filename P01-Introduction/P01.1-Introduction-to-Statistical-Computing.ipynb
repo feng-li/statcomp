{
 "cells": [
  {
   "cell_type": "markdown",
   "id": "c57b2ce5",
   "metadata": {
    "slideshow": {
     "slide_type": "slide"
    }
   },
   "source": [
    "# Introduction to Statistical Computing \n",
    "\n",
    "-- _with R and Python_\n",
    "\n",
    "Feng Li\n",
    "\n",
    "School of Statistics and Mathematics\n",
    "\n",
    "Central University of Finance and Economics\n",
    "\n",
    "[feng.li@cufe.edu.cn](mailto:feng.li@cufe.edu.cn)\n",
    "\n",
    "[https://feng.li/statcomp](https://feng.li/statcomp)"
   ]
  },
  {
   "cell_type": "markdown",
   "id": "93fa7c63",
   "metadata": {
    "slideshow": {
     "slide_type": "slide"
    }
   },
   "source": [
    "## The Evolution of Statistical Computing\n",
    "\n",
    "\n",
    "![image](figures/evolution.jpg)"
   ]
  },
  {
   "cell_type": "markdown",
   "id": "7396020a",
   "metadata": {
    "slideshow": {
     "slide_type": "slide"
    }
   },
   "source": [
    "## Contents of this course\n",
    "\n",
    "\n",
    "- Part I: Introduction to R/Python\n",
    "- Part II: Statistical optimization and simulation\n",
    "- Part III: Topics in Matrices and Data Mining"
   ]
  },
  {
   "cell_type": "markdown",
   "id": "476e7e44",
   "metadata": {
    "slideshow": {
     "slide_type": "slide"
    }
   },
   "source": [
    "## Pick up right tools\n",
    "\n",
    "- R is built by statisticians and leans heavily into statistical models and specialized analytics. Data scientists use R for deep statistical analysis, supported by just a few lines of code and beautiful data visualizations.\n",
    "\n",
    "- Python is a multi-purpose language, much like C++ and Java, with a readable syntax that is easy to learn. Programmers use Python to delve into data analysis or use machine learning in scalable production environments. \n",
    "\n",
    "- What shall I do: ***Pick up the right tool as you need***."
   ]
  },
  {
   "cell_type": "markdown",
   "id": "f9db3976",
   "metadata": {
    "slideshow": {
     "slide_type": "slide"
    }
   },
   "source": [
    "## Setup the environment\n",
    "\n",
    "\n",
    "### Installing R\n",
    "\n",
    "- Installing R on your own computer is simple and free.\n",
    "\n",
    "    - If you use Microsoft Windows or macOS, visit [http://www.r-project.org/](http://www.r-project.org/). It shipped with a simple graphical user interface (GUI).\n",
    "\n",
    "    - If you use Linux, search the phrase “r-cran” in your system’s software repository. Any text editor can be used to edit R source code. \n",
    "    \n",
    "    - RStudio is a good GUI front end for R on all platforms available at [https://posit.co/download/rstudio-desktop/](https://posit.co/download/rstudio-desktop/) ."
   ]
  },
  {
   "cell_type": "markdown",
   "id": "4faa6ba1",
   "metadata": {
    "slideshow": {
     "slide_type": "slide"
    }
   },
   "source": [
    "### Installing Python\n",
    "\n",
    "- Anaconda is popular open-source Python distribution. Download and install at [https://www.anaconda.com/products/distribution ](https://www.anaconda.com/products/distribution )."
   ]
  },
  {
   "cell_type": "markdown",
   "id": "c5d32867",
   "metadata": {
    "slideshow": {
     "slide_type": "slide"
    }
   },
   "source": [
    "## Resources \n",
    "\n",
    "\n",
    "- We will cover some major R programming aspects in the first few lectures. \n",
    "\n",
    "- We also use Python and we assume you have some basic knowledge of it. If you need additional training, visit my Python course home page at [https://feng.li/teaching/python/](https://feng.li/teaching/python/).\n",
    "\n",
    "- Online course book (in Chinese) is available at [https://feng.li/files/statscompbook/](https://feng.li/files/statscompbook/). \n"
   ]
  },
  {
   "cell_type": "markdown",
   "id": "13e657e2",
   "metadata": {
    "slideshow": {
     "slide_type": "slide"
    }
   },
   "source": [
    "## Don’t worry and it’s fun!"
   ]
  }
 ],
 "metadata": {
  "celltoolbar": "Slideshow",
  "kernelspec": {
   "display_name": "R",
   "language": "R",
   "name": "ir"
  },
  "language_info": {
   "codemirror_mode": "r",
   "file_extension": ".r",
   "mimetype": "text/x-r-source",
   "name": "R",
   "pygments_lexer": "r",
   "version": "4.2.2"
  }
 },
 "nbformat": 4,
 "nbformat_minor": 5
}
