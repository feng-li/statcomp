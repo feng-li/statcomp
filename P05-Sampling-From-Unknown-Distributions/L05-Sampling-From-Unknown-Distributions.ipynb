{
 "cells": [
  {
   "cell_type": "markdown",
   "id": "c57b2ce5",
   "metadata": {
    "slideshow": {
     "slide_type": "slide"
    }
   },
   "source": [
    "# Sampling From Unknown Distributions\n",
    "\n",
    "\n",
    "Feng Li\n",
    "\n",
    "School of Statistics and Mathematics\n",
    "\n",
    "Central University of Finance and Economics\n",
    "\n",
    "[feng.li@cufe.edu.cn](mailto:feng.li@cufe.edu.cn)\n",
    "\n",
    "[https://feng.li/statcomp](https://feng.li/statcomp)\n"
   ]
  },
  {
   "cell_type": "code",
   "execution_count": 1,
   "id": "69326237",
   "metadata": {
    "slideshow": {
     "slide_type": "skip"
    }
   },
   "outputs": [],
   "source": [
    "options(jupyter.plot_scale=0.8)"
   ]
  },
  {
   "cell_type": "markdown",
   "id": "47a7f101",
   "metadata": {
    "slideshow": {
     "slide_type": "slide"
    }
   },
   "source": [
    "## Direct Methods\n",
    "\n",
    "- Only need random numbers from uniform\n",
    "\n",
    "- Assume that we have a way to simulate from a uniform distribution between $0$ and $1$, $u\\sim U(0,1)$\n",
    "\n",
    "- If this is available, it is possible to simulate many other probability distributions.\n",
    "\n",
    "- The most simple method is the **Direct Method**"
   ]
  },
  {
   "cell_type": "markdown",
   "id": "b5ca565a",
   "metadata": {
    "slideshow": {
     "slide_type": "slide"
    }
   },
   "source": [
    "### Discrete Case: Example 1\n",
    "\n",
    "-   Assume that we want to simulate a binary variable $X$ with\n",
    "    $\\mbox{Pr}(X=1)=0.3$ and $\\mbox{Pr}(X=0)=0.7$\n",
    "\n",
    "-   Let $u\\sim U(0,1)$. Then the following rule can be used\n",
    "    $$x=\\left\\{\\begin{array}{c}\n",
    "                     1 \\quad \\mbox{if $u<0.3$}\\\\\n",
    "                     0 \\quad \\mbox{if $u>0.3$}\\\\\n",
    "                   \\end{array}\n",
    "                 \\right.$$\n",
    "\n",
    "-   It is expected that if this is repeated many times 30% $X=1$ and 70%\n",
    "    $X=0$"
   ]
  },
  {
   "cell_type": "code",
   "execution_count": 2,
   "id": "df9d4801",
   "metadata": {
    "slideshow": {
     "slide_type": "slide"
    }
   },
   "outputs": [
    {
     "data": {
      "text/html": [
       "<style>\n",
       ".list-inline {list-style: none; margin:0; padding: 0}\n",
       ".list-inline>li {display: inline-block}\n",
       ".list-inline>li:not(:last-child)::after {content: \"\\00b7\"; padding: 0 .5ex}\n",
       "</style>\n",
       "<ol class=list-inline><li>0</li><li>0</li><li>0</li><li>0</li><li>0</li><li>1</li><li>0</li><li>0</li><li>0</li><li>0</li><li>0</li><li>0</li><li>0</li><li>1</li><li>0</li><li>1</li><li>0</li><li>0</li><li>0</li><li>1</li><li>0</li><li>0</li><li>0</li><li>0</li><li>1</li><li>1</li><li>1</li><li>0</li><li>1</li><li>0</li><li>0</li><li>0</li><li>0</li><li>0</li><li>0</li><li>0</li><li>1</li><li>0</li><li>0</li><li>0</li><li>1</li><li>0</li><li>0</li><li>0</li><li>0</li><li>0</li><li>1</li><li>0</li><li>0</li><li>0</li><li>0</li><li>0</li><li>1</li><li>1</li><li>0</li><li>0</li><li>1</li><li>0</li><li>0</li><li>0</li><li>1</li><li>0</li><li>1</li><li>0</li><li>0</li><li>0</li><li>0</li><li>0</li><li>0</li><li>0</li><li>0</li><li>1</li><li>1</li><li>0</li><li>0</li><li>1</li><li>0</li><li>0</li><li>0</li><li>1</li><li>0</li><li>0</li><li>0</li><li>0</li><li>0</li><li>0</li><li>0</li><li>0</li><li>1</li><li>0</li><li>0</li><li>0</li><li>1</li><li>1</li><li>0</li><li>0</li><li>0</li><li>0</li><li>0</li><li>0</li></ol>\n"
      ],
      "text/latex": [
       "\\begin{enumerate*}\n",
       "\\item 0\n",
       "\\item 0\n",
       "\\item 0\n",
       "\\item 0\n",
       "\\item 0\n",
       "\\item 1\n",
       "\\item 0\n",
       "\\item 0\n",
       "\\item 0\n",
       "\\item 0\n",
       "\\item 0\n",
       "\\item 0\n",
       "\\item 0\n",
       "\\item 1\n",
       "\\item 0\n",
       "\\item 1\n",
       "\\item 0\n",
       "\\item 0\n",
       "\\item 0\n",
       "\\item 1\n",
       "\\item 0\n",
       "\\item 0\n",
       "\\item 0\n",
       "\\item 0\n",
       "\\item 1\n",
       "\\item 1\n",
       "\\item 1\n",
       "\\item 0\n",
       "\\item 1\n",
       "\\item 0\n",
       "\\item 0\n",
       "\\item 0\n",
       "\\item 0\n",
       "\\item 0\n",
       "\\item 0\n",
       "\\item 0\n",
       "\\item 1\n",
       "\\item 0\n",
       "\\item 0\n",
       "\\item 0\n",
       "\\item 1\n",
       "\\item 0\n",
       "\\item 0\n",
       "\\item 0\n",
       "\\item 0\n",
       "\\item 0\n",
       "\\item 1\n",
       "\\item 0\n",
       "\\item 0\n",
       "\\item 0\n",
       "\\item 0\n",
       "\\item 0\n",
       "\\item 1\n",
       "\\item 1\n",
       "\\item 0\n",
       "\\item 0\n",
       "\\item 1\n",
       "\\item 0\n",
       "\\item 0\n",
       "\\item 0\n",
       "\\item 1\n",
       "\\item 0\n",
       "\\item 1\n",
       "\\item 0\n",
       "\\item 0\n",
       "\\item 0\n",
       "\\item 0\n",
       "\\item 0\n",
       "\\item 0\n",
       "\\item 0\n",
       "\\item 0\n",
       "\\item 1\n",
       "\\item 1\n",
       "\\item 0\n",
       "\\item 0\n",
       "\\item 1\n",
       "\\item 0\n",
       "\\item 0\n",
       "\\item 0\n",
       "\\item 1\n",
       "\\item 0\n",
       "\\item 0\n",
       "\\item 0\n",
       "\\item 0\n",
       "\\item 0\n",
       "\\item 0\n",
       "\\item 0\n",
       "\\item 0\n",
       "\\item 1\n",
       "\\item 0\n",
       "\\item 0\n",
       "\\item 0\n",
       "\\item 1\n",
       "\\item 1\n",
       "\\item 0\n",
       "\\item 0\n",
       "\\item 0\n",
       "\\item 0\n",
       "\\item 0\n",
       "\\item 0\n",
       "\\end{enumerate*}\n"
      ],
      "text/markdown": [
       "1. 0\n",
       "2. 0\n",
       "3. 0\n",
       "4. 0\n",
       "5. 0\n",
       "6. 1\n",
       "7. 0\n",
       "8. 0\n",
       "9. 0\n",
       "10. 0\n",
       "11. 0\n",
       "12. 0\n",
       "13. 0\n",
       "14. 1\n",
       "15. 0\n",
       "16. 1\n",
       "17. 0\n",
       "18. 0\n",
       "19. 0\n",
       "20. 1\n",
       "21. 0\n",
       "22. 0\n",
       "23. 0\n",
       "24. 0\n",
       "25. 1\n",
       "26. 1\n",
       "27. 1\n",
       "28. 0\n",
       "29. 1\n",
       "30. 0\n",
       "31. 0\n",
       "32. 0\n",
       "33. 0\n",
       "34. 0\n",
       "35. 0\n",
       "36. 0\n",
       "37. 1\n",
       "38. 0\n",
       "39. 0\n",
       "40. 0\n",
       "41. 1\n",
       "42. 0\n",
       "43. 0\n",
       "44. 0\n",
       "45. 0\n",
       "46. 0\n",
       "47. 1\n",
       "48. 0\n",
       "49. 0\n",
       "50. 0\n",
       "51. 0\n",
       "52. 0\n",
       "53. 1\n",
       "54. 1\n",
       "55. 0\n",
       "56. 0\n",
       "57. 1\n",
       "58. 0\n",
       "59. 0\n",
       "60. 0\n",
       "61. 1\n",
       "62. 0\n",
       "63. 1\n",
       "64. 0\n",
       "65. 0\n",
       "66. 0\n",
       "67. 0\n",
       "68. 0\n",
       "69. 0\n",
       "70. 0\n",
       "71. 0\n",
       "72. 1\n",
       "73. 1\n",
       "74. 0\n",
       "75. 0\n",
       "76. 1\n",
       "77. 0\n",
       "78. 0\n",
       "79. 0\n",
       "80. 1\n",
       "81. 0\n",
       "82. 0\n",
       "83. 0\n",
       "84. 0\n",
       "85. 0\n",
       "86. 0\n",
       "87. 0\n",
       "88. 0\n",
       "89. 1\n",
       "90. 0\n",
       "91. 0\n",
       "92. 0\n",
       "93. 1\n",
       "94. 1\n",
       "95. 0\n",
       "96. 0\n",
       "97. 0\n",
       "98. 0\n",
       "99. 0\n",
       "100. 0\n",
       "\n",
       "\n"
      ],
      "text/plain": [
       "  [1] 0 0 0 0 0 1 0 0 0 0 0 0 0 1 0 1 0 0 0 1 0 0 0 0 1 1 1 0 1 0 0 0 0 0 0 0 1\n",
       " [38] 0 0 0 1 0 0 0 0 0 1 0 0 0 0 0 1 1 0 0 1 0 0 0 1 0 1 0 0 0 0 0 0 0 0 1 1 0\n",
       " [75] 0 1 0 0 0 1 0 0 0 0 0 0 0 0 1 0 0 0 1 1 0 0 0 0 0 0"
      ]
     },
     "metadata": {},
     "output_type": "display_data"
    }
   ],
   "source": [
    "u = runif(100)\n",
    "x = ifelse(u<0.3, yes=1, no=0)\n",
    "x"
   ]
  },
  {
   "cell_type": "markdown",
   "id": "6b9cd3e4",
   "metadata": {
    "slideshow": {
     "slide_type": "slide"
    }
   },
   "source": [
    "![image](figures/d1p1.png) "
   ]
  },
  {
   "cell_type": "markdown",
   "id": "95e0a296",
   "metadata": {
    "slideshow": {
     "slide_type": "slide"
    }
   },
   "source": [
    "![image](figures/d1p3.png) "
   ]
  },
  {
   "cell_type": "markdown",
   "id": "f5b146bd",
   "metadata": {
    "slideshow": {
     "slide_type": "slide"
    }
   },
   "source": [
    "### Discrete Case: Example 2\n",
    "\n",
    "-   Assume that we want to **simulate a discrete variable $X$ with\n",
    "    probability** $\\mbox{Pr}(X=0)=0.3$ and $\\mbox{Pr}(X=1)=0.25$ and\n",
    "    $\\mbox{Pr}(X=2)=0.45$\n",
    "\n",
    "-   Let $u\\sim U(0,1)$. Then the following rule can be used\n",
    "    $$x=\\left\\{\\begin{array}{l}\n",
    "                            0 \\quad \\mbox{if $u<0.3$}\\\\\n",
    "                            1 \\quad \\mbox{if $0.3<u<0.55$}\\\\\n",
    "                            2 \\quad \\mbox{if $u>0.55$}\n",
    "                          \\end{array}\n",
    "                        \\right.$$\n",
    "\n",
    "-   It is expected that if this is repeated many times, roughly 30%\n",
    "    $X=0$, 25% $X=1$ and 45% $X=2$"
   ]
  },
  {
   "cell_type": "markdown",
   "id": "e6617d2b",
   "metadata": {
    "slideshow": {
     "slide_type": "slide"
    }
   },
   "source": [
    "![image](figures/d2p3.png) "
   ]
  },
  {
   "cell_type": "markdown",
   "id": "88814415",
   "metadata": {
    "slideshow": {
     "slide_type": "slide"
    }
   },
   "source": [
    "### Continuous Case\n",
    "\n",
    "-   How do we extend this idea to the continuous case?\n",
    "\n",
    "-   What was the step function in our discrete example?\n",
    "\n",
    "-   It is the **cumulative distribution function (CDF)**\n",
    "\n",
    "-   Can we replace the discrete cdf with a continuous cdf?\n",
    "\n",
    "-   Yes!"
   ]
  },
  {
   "cell_type": "markdown",
   "id": "27dfe1db",
   "metadata": {
    "slideshow": {
     "slide_type": "slide"
    }
   },
   "source": [
    "![image](figures/cp1.png) "
   ]
  },
  {
   "cell_type": "markdown",
   "id": "f704e110",
   "metadata": {
    "slideshow": {
     "slide_type": "slide"
    }
   },
   "source": [
    "![image](figures/cp3.png) "
   ]
  },
  {
   "cell_type": "markdown",
   "id": "11721518",
   "metadata": {
    "slideshow": {
     "slide_type": "slide"
    }
   },
   "source": [
    "\n",
    "### Continuous Case\n",
    "\n",
    "-   The cdf, $F(X)$ takes values of $X$ and gives a value between $0$\n",
    "    and $1$\n",
    "\n",
    "-   Here we take values between $0$ and $1$ and get a value of $X$\n",
    "\n",
    "-   What function do we use?\n",
    "\n",
    "-   We use the **Inverse cdf**"
   ]
  },
  {
   "cell_type": "markdown",
   "id": "c5b5b89f",
   "metadata": {
    "slideshow": {
     "slide_type": "slide"
    }
   },
   "source": [
    "### Continuous Case: Direct Methods\n",
    "\n",
    "#### Probability Integral Transform\n",
    "\n",
    "-   If $Y$ is a continuous random variable with cdf $F(y)$ , then the\n",
    "    random variable $F_y^{-1}(U)$, where $U \\sim uniform(O, 1)$, has\n",
    "    distribution $F(y)$.\n",
    "\n",
    "-   **Example:** If $Y \\sim exponential(A)$, then the probability\n",
    "    density function (PDF) is\n",
    "    $$f(x;\\lambda) = \\begin{cases} \\lambda e^{-\\lambda x} & x \\ge 0, \\\\ 0 & x < 0. \\end{cases}$$\n",
    "    and the cumulative distribution function (CDF) is given by\n",
    "    $$F(x;\\lambda) = \\begin{cases} 1-e^{-\\lambda x} & x \\ge 0, \\\\ 0 & x < 0. \\end{cases}$$\n",
    "    Then $$F_Y^{-1}(U) = -\\log(1-U)/\\lambda$$ is an exponential random\n",
    "    variable.\n",
    "\n",
    "-   Thus, if we generate $U_1,..., U_n$ as iid uniform random variables,\n",
    "    $-\\lambda (1-U_i)$, are iid exponential random variables with\n",
    "    parameter $\\lambda$."
   ]
  },
  {
   "cell_type": "code",
   "execution_count": 3,
   "id": "cc4dc294",
   "metadata": {
    "slideshow": {
     "slide_type": "slide"
    }
   },
   "outputs": [],
   "source": [
    "u2x <- function(u, lambda)\n",
    "    {\n",
    "        x <- - log(1-u)/lambda\n",
    "        return(x)\n",
    "    }\n",
    "\n",
    "rmyexp <- function(n, lambda)\n",
    "    {\n",
    "        u <- runif(n, 0, 1)\n",
    "        x <- u2x(u, lambda)\n",
    "        return(x)\n",
    "    }"
   ]
  },
  {
   "cell_type": "code",
   "execution_count": 8,
   "id": "dcb56859",
   "metadata": {
    "slideshow": {
     "slide_type": "slide"
    }
   },
   "outputs": [
    {
     "data": {
      "image/png": "[encoded data removed]",
      "text/plain": [
       "Plot with title “rexp”"
      ]
     },
     "metadata": {
      "image/png": {
       "height": 450,
       "width": 600
      }
     },
     "output_type": "display_data"
    }
   ],
   "source": [
    "n = 1000\n",
    "lambda = 2\n",
    "\n",
    "par(mfrow = c(1, 2))\n",
    "ylim <- c(0, 2)\n",
    "xlim <- c(0, 4)\n",
    "hist(rmyexp(n, lambda), breaks = 20, freq = FALSE,\n",
    "     xlim = xlim, ylim = ylim, xlab=\"\", ylab=\"\", main=\"rmyexp\")\n",
    "\n",
    "xax <- seq(0, max(x), 0.01)\n",
    "xDens <- lambda*exp(-lambda*xax)\n",
    "\n",
    "lines(xax, xDens, type = \"l\",\n",
    "     col = \"blue\", lwd = 3)\n",
    "\n",
    "hist(rexp(n, rate = lambda), breaks = 20, freq = FALSE,\n",
    "     xlim = xlim, ylim = ylim, xlab=\"\", ylab=\"\", main=\"rexp\")\n",
    "lines(xax, xDens, type = \"l\",\n",
    "     col = \"blue\", lwd = 3)"
   ]
  },
  {
   "cell_type": "markdown",
   "id": "e01ebe0f",
   "metadata": {
    "slideshow": {
     "slide_type": "slide"
    }
   },
   "source": [
    "## Indirect Methods\n",
    "\n",
    "Indirect simulation\n",
    "\n",
    "-   What if the cumulative distribution function is difficult to invert,\n",
    "    or not even available?\n",
    "\n",
    "-   How to invert the CDF of a standard normal distribution?\n",
    "\n",
    "    $$F(x)=\\int_{-\\infty}^{x}(2\\pi)^{-1/2}e^{-x^2/2}dx$$\n",
    "\n",
    "\n",
    "-   It is still possible to simulate from this type of distribution?\n",
    "\n",
    "-   If the **density** is available, then the answer is YES!"
   ]
  },
  {
   "cell_type": "markdown",
   "id": "5cac5f45",
   "metadata": {
    "slideshow": {
     "slide_type": "slide"
    }
   },
   "source": [
    "The mixture of normal distribution\n",
    "\n",
    "-   The mixture of normal distribution has density function\n",
    "\n",
    "    $$f(x, \\omega, \\mu_1, \\mu_2, \\sigma_1, \\sigma_2) = \\omega N(x, \\mu_1, \\sigma_1) + (1- \\omega)  N(x, \\mu_2, \\sigma_2)$$\n",
    "\n",
    "    where $0 < \\omega <1$ is the weight.\n",
    "\n",
    "-   It is based on the combination of the normal but has many features.\n",
    "\n",
    "-   It is not so easy to simulate from this distribution using the\n",
    "    direct method."
   ]
  },
  {
   "cell_type": "code",
   "execution_count": 43,
   "id": "87953753",
   "metadata": {
    "slideshow": {
     "slide_type": "slide"
    }
   },
   "outputs": [
    {
     "data": {
      "image/png": "[encoded data removed]",
      "text/plain": [
       "Plot with title “Normal: Red, Mixture: Blue”"
      ]
     },
     "metadata": {
      "image/png": {
       "height": 450,
       "width": 600
      }
     },
     "output_type": "display_data"
    }
   ],
   "source": [
    "w = 0.2\n",
    "mu1 = -1\n",
    "mu2 = 1\n",
    "sigma1 = 0.8\n",
    "sigma2 = 0.5\n",
    "\n",
    "xgrid<-seq(-3, 4, 0.01)\n",
    "nm <- dnorm(xgrid)\n",
    "mix <-w*dnorm(xgrid, mu1, sigma1) + (1-w)*dnorm(xgrid, mu2, sigma2)\n",
    "plot(xgrid, nm, \"l\", lwd=2, col='red',main='Normal: Red, Mixture: Blue',\n",
    "     xlab = 'x', ylab = 'y', ylim=c(0, max(nm,mnm)))\n",
    "lines(xgrid, mix, lwd=2,col='blue')"
   ]
  },
  {
   "cell_type": "markdown",
   "id": "6e581b11",
   "metadata": {
    "slideshow": {
     "slide_type": "slide"
    }
   },
   "source": [
    "The idea\n",
    "\n",
    "-   Let $f_y(x)$ be the **target distribution** and $f_v(v)$ be the\n",
    "    **proposal distribution**\n",
    "\n",
    "-   Simulate an $x$-coordinate from the proposal $f_v(x)$\n",
    "\n",
    "-   Simulate a y-coordinate from $U(0, M*f_v(x))$\n",
    "\n",
    "-   Reject any points that are not ‘inside’ $f_y(x)$"
   ]
  },
  {
   "cell_type": "code",
   "execution_count": 44,
   "id": "f2d44d6e",
   "metadata": {
    "slideshow": {
     "slide_type": "slide"
    }
   },
   "outputs": [
    {
     "data": {
      "image/png": "[encoded data removed]",
      "text/plain": [
       "plot without title"
      ]
     },
     "metadata": {
      "image/png": {
       "height": 450,
       "width": 600
      }
     },
     "output_type": "display_data"
    }
   ],
   "source": [
    "M0 = (w*dnorm(xgrid, mu1, sigma1) + (1-w)*dnorm(xgrid, mu2, sigma2))/dnorm(xgrid) \n",
    "plot(xgrid, M0, type=\"l\")"
   ]
  },
  {
   "cell_type": "code",
   "execution_count": 45,
   "id": "4334f112",
   "metadata": {
    "slideshow": {
     "slide_type": "slide"
    }
   },
   "outputs": [
    {
     "data": {
      "image/png": "[encoded data removed]",
      "text/plain": [
       "Plot with title “Scaled normal: Red, Mixture: Blue”"
      ]
     },
     "metadata": {
      "image/png": {
       "height": 450,
       "width": 600
      }
     },
     "output_type": "display_data"
    }
   ],
   "source": [
    "M = max(M0)\n",
    "Mnm <-M*nm\n",
    "plot(xgrid, Mnm, lwd=2, type=\"l\",col='red',main='Scaled normal: Red, Mixture: Blue',xlab = 'x',ylab = 'y')\n",
    "lines(xgrid, mix, lwd=2, col='blue')"
   ]
  },
  {
   "cell_type": "markdown",
   "id": "2d18d9ef",
   "metadata": {
    "slideshow": {
     "slide_type": "slide"
    }
   },
   "source": [
    "#### Reject and accept method\n",
    "\n",
    "-   **Theorem:** Let $Y \\sim f_Y(y)$ and $V \\sim f_v(v)$, where $f_Y$\n",
    "    and $f_V$ have common support with\n",
    "    $$M = sup_y f_Y(y)/f_V(y) < \\infty.$$ To generate a random variable\n",
    "    $Y\\sim f_Y$, we do the following steps\n",
    "\n",
    "    1.  Generate $U\\sim uniform(0,1)$ and $V\\sim f_V$ independently.\n",
    "\n",
    "    2.  If $$U < \\frac{1}{M} \\frac{f_Y(V)}{f_V(V)}$$ set $Y = V$;\n",
    "        otherwise, return to step 1."
   ]
  },
  {
   "cell_type": "code",
   "execution_count": 46,
   "id": "5e442acc",
   "metadata": {
    "slideshow": {
     "slide_type": "slide"
    }
   },
   "outputs": [
    {
     "data": {
      "image/png": "[encoded data removed]",
      "text/plain": [
       "Plot with title “Normal: Red, Mixture: Blue”"
      ]
     },
     "metadata": {
      "image/png": {
       "height": 450,
       "width": 600
      }
     },
     "output_type": "display_data"
    }
   ],
   "source": [
    "n<-500\n",
    "xp<-rnorm(n)\n",
    "yp<-M*dnorm(xp)*runif(n)\n",
    "\n",
    "plot(xgrid, Mnm, lwd=2, type=\"l\",col='red',main='Normal: Red, Mixture: Blue',xlab = 'x',ylab = 'y')\n",
    "lines(xgrid, mix, lwd=2, col='blue')\n",
    "\n",
    "dmix = w*dnorm(xp, mu1, sigma1) + (1-w)*dnorm(xp, mu2, sigma2)\n",
    "points(xp[yp>=dmix],yp[yp>=dmix], col='red',pch=20, cex=0.2)\n",
    "points(xp[yp<dmix],yp[yp<dmix], pch=16, cex=0.2, col='blue')"
   ]
  },
  {
   "cell_type": "markdown",
   "id": "dbcdcd9c",
   "metadata": {
    "slideshow": {
     "slide_type": "slide"
    }
   },
   "source": [
    "#### Reject and accept method: the proof\n",
    "\n",
    "$$\\begin{aligned}\n",
    "                  P(V\\leq y |stopping~rule)&= P(V\\leq y | U < \\frac{1}{M} \\frac{f_Y(V)}{f_V(V)})\\\\\n",
    "                                           &= \\frac{P(V\\leq y , U < \\frac{1}{M} \\frac{f_Y(V)}{f_V(V)})}{P(U <\n",
    "                                             \\frac{1}{M} \\frac{f_Y(V)}{f_V(V)})}\\\\\n",
    "                                           &= \\frac{\\int_{-\\infty}^y\\int_0^{\\frac{1}{M}\n",
    "                                             \\frac{f_Y(V)}{f_V(V)}}du~f_V(v)dv}{\\int_{-\\infty}^{\\infty}\\int_0^{\\frac{1}{M}\n",
    "                                             \\frac{f_Y(V)}{f_V(V)}}du~f_V(v)dv}\\\\\n",
    "                                           &= \\frac{\\int_{-\\infty}^y\\frac{1}{M}\n",
    "                                             \\frac{f_Y(V)}{f_V(V)}f_V(V)dv}{\\int_{-\\infty}^{\\infty}\\frac{1}{M}\n",
    "                                             \\frac{f_Y(V)}{f_V(V)}f_V(V)dv}\\\\\n",
    "                                           &=\\int_{-\\infty}^y f_Y(v)dv\n",
    "                \\end{aligned}$$\n",
    "\n",
    "-   Can have any $M$? In fact $M$ shows the efficiency of the sampling\n",
    "    algorithm, i.e. $M= 1/P(stopping~rule)$.\n"
   ]
  },
  {
   "cell_type": "markdown",
   "id": "fc6bd2ac",
   "metadata": {
    "slideshow": {
     "slide_type": "slide"
    }
   },
   "source": [
    "#### Choosing $f_v(x)$ and $M$\n",
    "\n",
    "-   Two things are necessary for the accept/reject algorithm to work:\n",
    "\n",
    "    1.  The domain of $p(x)$ and the domain of $q(x)$ MUST be the same.\n",
    "\n",
    "    2.  The value of $M$ must satisfy $M\\geq \\sup_x p(x)/q(x)$\n",
    "\n",
    "-   The algorithm will be more **efficient** if:\n",
    "\n",
    "    1.  The proposal $q(x)$ is a good approximation to $p(x)$\n",
    "\n",
    "    2.  The value of $M$ is $M=\\sup_x p(x)/q(x)$"
   ]
  },
  {
   "cell_type": "markdown",
   "id": "07d906e3",
   "metadata": {
    "slideshow": {
     "slide_type": "slide"
    }
   },
   "source": [
    "#### A look at $f_y(x)/f_v(x)$\n",
    "\n",
    "\n",
    "\n",
    "Normalizing Constant and Kernel\n",
    "\n",
    "-   Today we saw many density functions $f(x)$\n",
    "\n",
    "-   Many density functions can written as $f(x)=k\\tilde{f}(x)$\n",
    "\n",
    "-   The part $k$ is called the normalizing constant and the part\n",
    "    $\\tilde{f}(x)$ is called the kernel.\n",
    "\n",
    "-   For example the standard normal distribution is\n",
    "    $$p(x)=(2\\pi)^{-1/2}e^{-x^2/2}$$\n",
    "\n",
    "Normalizing Constant and Kernel What are the normalizing constant and\n",
    "kernel of the Beta function?\n",
    "\n",
    "$$Beta(x;a,b)=\\frac{\\Gamma(a+b)}{(\\Gamma(a)\\Gamma(b))}{x^{a-1}(1-x)^{b-1}}$$"
   ]
  },
  {
   "cell_type": "markdown",
   "id": "1af07f3b",
   "metadata": {
    "slideshow": {
     "slide_type": "slide"
    }
   },
   "source": [
    "Accept/Reject and the normalising constant\n",
    "\n",
    "-   An advantage of the Accept/Reject algorithm is that is works, even\n",
    "    if the normalizing constant is unavailable.\n",
    "\n",
    "-   Only the kernel is needed.\n",
    "\n",
    "-   There are many examples where the normalising constant is either\n",
    "    unavailable or difficult to compute.\n",
    "\n",
    "-   This often happens in Bayesian analysis\n"
   ]
  }
 ],
 "metadata": {
  "celltoolbar": "Slideshow",
  "kernelspec": {
   "display_name": "R",
   "language": "R",
   "name": "ir"
  },
  "language_info": {
   "codemirror_mode": "r",
   "file_extension": ".r",
   "mimetype": "text/x-r-source",
   "name": "R",
   "pygments_lexer": "r",
   "version": "4.2.2"
  }
 },
 "nbformat": 4,
 "nbformat_minor": 5
}
