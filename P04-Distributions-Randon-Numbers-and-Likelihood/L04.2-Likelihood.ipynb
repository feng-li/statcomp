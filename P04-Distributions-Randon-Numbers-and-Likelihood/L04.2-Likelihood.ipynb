{
 "cells": [
  {
   "cell_type": "markdown",
   "id": "c57b2ce5",
   "metadata": {
    "slideshow": {
     "slide_type": "slide"
    }
   },
   "source": [
    "# Likelihood\n",
    "\n",
    "Feng Li\n",
    "\n",
    "School of Statistics and Mathematics\n",
    "\n",
    "Central University of Finance and Economics\n",
    "\n",
    "[feng.li@cufe.edu.cn](mailto:feng.li@cufe.edu.cn)\n",
    "\n",
    "[https://feng.li/statcomp](https://feng.li/statcomp)\n"
   ]
  },
  {
   "cell_type": "markdown",
   "id": "055df123",
   "metadata": {
    "slideshow": {
     "slide_type": "slide"
    }
   },
   "source": [
    "## Likelihood Function\n",
    "\n",
    "-   Given that $x_i\\sim N(\\mu,\\sigma)$ for $i=1,...,n$, the **likelihood\n",
    "    function** is\n",
    "\n",
    "    $$\\prod_{i=1}^n f(x_i,\\mu,\\sigma)$$\n",
    "\n",
    "-   However the **log likelihood function** is more often used\n",
    "    $$\\sum_{i=1}^n \\log f(x_i,\\mu,\\sigma)$$\n",
    "\n",
    "-   Do you know why?"
   ]
  },
  {
   "cell_type": "code",
   "execution_count": 4,
   "id": "42b9aabc",
   "metadata": {
    "slideshow": {
     "slide_type": "slide"
    }
   },
   "outputs": [
    {
     "data": {
      "text/html": [
       "-186.539752247519"
      ],
      "text/latex": [
       "-186.539752247519"
      ],
      "text/markdown": [
       "-186.539752247519"
      ],
      "text/plain": [
       "[1] -186.5398"
      ]
     },
     "metadata": {},
     "output_type": "display_data"
    }
   ],
   "source": [
    "logNormLike <- function(mu, sigma, data)\n",
    "  {\n",
    "    out = sum(dnorm(\n",
    "        x = data, mean = mu, sd = sigma,\n",
    "        log = TRUE))\n",
    "    return(out)\n",
    "  }\n",
    "\n",
    "logNormLike(mu = 1, sigma = 1, data = rnorm(100, mean=2,sd=1)) "
   ]
  },
  {
   "cell_type": "markdown",
   "id": "bd3ee8fd",
   "metadata": {
    "slideshow": {
     "slide_type": "slide"
    }
   },
   "source": [
    "\n",
    "### Walking APP example: How long do you walk every day?\n",
    "\n",
    "-   Here is a list about my past six days walking statistics. Can you\n",
    "    estimate how long do I walk everyday? and what is the variation?\n",
    "\n",
    "\n",
    "![walking](figures/walking.png)"
   ]
  },
  {
   "cell_type": "markdown",
   "id": "b9bd295e",
   "metadata": {
    "slideshow": {
     "slide_type": "slide"
    }
   },
   "source": [
    "### The likelihood function\n",
    "\n",
    "-   We assume everyday’s walking steps ($x_i$) are independent, and\n",
    "    $x_i$ follows standard normal distribution $\\sim  N(\\mu,\\sigma)$, the corresponding likelihood function is\n",
    "\n",
    "    $$\\prod_{i=1}^n f(x_i,\\mu,\\sigma)$$ which can be easily written in R\n",
    "\n",
    "-   **The scope** Find a proper combination of $\\mu$ and $\\sigma$ that\n",
    "    maximizes the loglikelihood function."
   ]
  },
  {
   "cell_type": "markdown",
   "id": "a5944b92",
   "metadata": {
    "slideshow": {
     "slide_type": "slide"
    }
   },
   "source": [
    "### Conditional likelihood function\n",
    "\n",
    "-   Fix other parameters\n",
    "\n",
    "![conddensity](figures/conddensity.png)\n",
    "\n",
    "Left: fix variance to allow $\\mu$ to change with likelihood function. Right: fix mean to allow $\\sigma$ to change with likelihood function."
   ]
  },
  {
   "cell_type": "code",
   "execution_count": 6,
   "id": "f9071724",
   "metadata": {},
   "outputs": [],
   "source": [
    "x <- c(294, 262, 196, 79, 191, 677)\n",
    "mu = 260:300\n",
    "sigma = 180:220\n",
    "\n",
    "parMat <- expand.grid(mu, sigma)\n",
    "muALL <- parMat[, 1]\n",
    "sigmaALL <- parMat[, 2]\n",
    "\n",
    "myLogLike <- matrix(NA, 1, length(sigma))\n",
    "for(i in 1:length(sigmaALL))\n",
    "{\n",
    "  myLogLike[i] <- logNormLike(mu = muALL[i], sigma = sigmaALL[i], data = x)\n",
    "}"
   ]
  },
  {
   "cell_type": "markdown",
   "id": "b1916648",
   "metadata": {
    "slideshow": {
     "slide_type": "slide"
    }
   },
   "source": [
    "```R\n",
    "persp(as.vector(mu), as.vector(sigma), matrix(myLogLike, length(mu),), theta = 90, phi =\n",
    "        30, expand = 0.5, col = \"lightblue\", xlab = \"mu\", ylab = \"sigma\", zlab = \"log likelihood\", ticktype = \"detailed\")\n",
    "\n",
    "filled.contour(as.vector(mu), as.vector(sigma), matrix(myLogLike, length(mu),), xlab = \"mu\", ylab = \"sigma\")\n",
    "```"
   ]
  },
  {
   "cell_type": "markdown",
   "id": "dd211cfe",
   "metadata": {
    "slideshow": {
     "slide_type": "slide"
    }
   },
   "source": [
    "-   Are $\\mu$ and $\\sigma$ we obtained the best combination?\n",
    "\n",
    " ![2dlike](figures/2dlike.png)\n"
   ]
  },
  {
   "cell_type": "markdown",
   "id": "876dcc3b",
   "metadata": {
    "slideshow": {
     "slide_type": "slide"
    }
   },
   "source": [
    "- 2D and 3D loglikelihood function\n",
    "\n",
    " ![3dlike](figures/3dlike.png)\n"
   ]
  },
  {
   "cell_type": "markdown",
   "id": "7f7f59d6",
   "metadata": {
    "slideshow": {
     "slide_type": "slide"
    }
   },
   "source": [
    "### Likelihood function for linear regression\n",
    "\n",
    "-   Assume you want to make a regression model\n",
    "\n",
    "    $$y_i = \\beta_0 + \\beta_1 x_i + \\epsilon_i$$\n",
    "\n",
    "    where $\\epsilon_i \\sim N(0, \\sigma^2)$\n",
    "\n",
    "-   What is the (log) likelihood function?\n",
    "\n",
    "-   What are the unknown parameters?\n",
    "\n",
    "-   How do we estimate the parameters?\n",
    "\n",
    "    -   Write down a likelihood function with respect to the unknown\n",
    "        parameters.\n",
    "\n",
    "    -   Use an optimization algorithm to find the estimates of the\n",
    "        unknown parameters.\n"
   ]
  },
  {
   "cell_type": "code",
   "execution_count": 15,
   "id": "60704413",
   "metadata": {
    "slideshow": {
     "slide_type": "slide"
    }
   },
   "outputs": [
    {
     "data": {
      "image/png": "[encoded data removed]",
      "text/plain": [
       "plot without title"
      ]
     },
     "metadata": {
      "image/png": {
       "height": 180,
       "width": 240
      }
     },
     "output_type": "display_data"
    }
   ],
   "source": [
    "beta0 <- 1\n",
    "beta1 <- 3\n",
    "sigma <- 0.5\n",
    "\n",
    "n <- 1000\n",
    "x <- rnorm(n, 3, 1)\n",
    "\n",
    "y <- beta0 +x*beta1 + rnorm(n, mean = 0, sd = sigma)\n",
    "plot(x, y, col = \"blue\", pch = 20)"
   ]
  },
  {
   "cell_type": "code",
   "execution_count": 18,
   "id": "706f5887",
   "metadata": {
    "slideshow": {
     "slide_type": "slide"
    }
   },
   "outputs": [],
   "source": [
    "logNormLikelihood <- function(par, y, x)\n",
    "    {\n",
    "        beta0 <- par[1]\n",
    "        beta1 <- par[2]\n",
    "        sigma <- par[3]\n",
    "        mean <- beta0 + x*beta1\n",
    "        logDens <- dnorm(x = y, mean = mean, sd = sigma, log = TRUE)\n",
    "        loglikelihood <- sum(logDens)\n",
    "        return(loglikelihood)\n",
    "    }\n",
    "\n",
    "optimOut <- optim(c(0.2, 0.3, 0.5), logNormLikelihood,\n",
    "                  control = list(fnscale = -1),\n",
    "                  x = x, y = y)\n",
    "\n",
    "beta0Hat <- optimOut$par[1]\n",
    "beta1Hat <- optimOut$par[2]\n",
    "sigmaHat <- optimOut$par[3]\n",
    "yHat <- beta0Hat + beta1Hat*x"
   ]
  },
  {
   "cell_type": "code",
   "execution_count": 19,
   "id": "ea97b1ad",
   "metadata": {
    "slideshow": {
     "slide_type": "slide"
    }
   },
   "outputs": [
    {
     "data": {
      "image/png": "[encoded data removed]",
      "text/plain": [
       "plot without title"
      ]
     },
     "metadata": {
      "image/png": {
       "height": 180,
       "width": 240
      }
     },
     "output_type": "display_data"
    }
   ],
   "source": [
    "myLM <- lm(y~x)\n",
    "myLMCoef <- myLM$coefficients\n",
    "yHatOLS <- myLMCoef[1] + myLMCoef[2]*x\n",
    "\n",
    "plot(x, y, pch = 20, col = \"blue\")\n",
    "points(sort(x), yHat[order(x)], type = \"l\", col = \"red\", lwd = 10)\n",
    "points(sort(x), yHatOLS[order(x)], type = \"l\", lty = \"dashed\",\n",
    "       col = \"yellow\", lwd = 2, pch = 20)"
   ]
  }
 ],
 "metadata": {
  "celltoolbar": "Slideshow",
  "kernelspec": {
   "display_name": "R",
   "language": "R",
   "name": "ir"
  },
  "language_info": {
   "codemirror_mode": "r",
   "file_extension": ".r",
   "mimetype": "text/x-r-source",
   "name": "R",
   "pygments_lexer": "r",
   "version": "4.2.2"
  }
 },
 "nbformat": 4,
 "nbformat_minor": 5
}
