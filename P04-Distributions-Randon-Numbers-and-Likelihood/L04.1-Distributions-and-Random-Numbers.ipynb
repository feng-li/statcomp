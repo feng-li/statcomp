{
 "cells": [
  {
   "cell_type": "markdown",
   "id": "c57b2ce5",
   "metadata": {
    "slideshow": {
     "slide_type": "slide"
    }
   },
   "source": [
    "# Distributions and Random Numbers\n",
    "\n",
    "\n",
    "Feng Li\n",
    "\n",
    "School of Statistics and Mathematics\n",
    "\n",
    "Central University of Finance and Economics\n",
    "\n",
    "[feng.li@cufe.edu.cn](mailto:feng.li@cufe.edu.cn)\n",
    "\n",
    "[https://feng.li/statcomp](https://feng.li/statcomp)\n"
   ]
  },
  {
   "cell_type": "markdown",
   "id": "ed515448",
   "metadata": {
    "slideshow": {
     "slide_type": "slide"
    }
   },
   "source": [
    "## Basic concepts of random numbers\n",
    "\n",
    "### Preliminary\n",
    "\n",
    "-   **Pseudo random numbers**\n",
    "\n",
    "    -   an algorithm for generating a sequence of numbers that\n",
    "        approximates the properties of random numbers.\n",
    "\n",
    "    -   The sequence is not truly random in that it is completely\n",
    "        determined by a relatively small set of initial values, called\n",
    "        the PRNG’s state.\n",
    "\n",
    "    -   Pseudo random numbers are important in practice for their\n",
    "        **speed** in number generation and their **reproducibility**."
   ]
  },
  {
   "cell_type": "markdown",
   "id": "b6a6c8d8",
   "metadata": {
    "slideshow": {
     "slide_type": "slide"
    }
   },
   "source": [
    "-   **Random seed**\n",
    "\n",
    "    A random seed (or seed state, or just seed) is a number (or vector)\n",
    "    used to initialize a pseudo random number generator.\n",
    "\n",
    "-   The most important random numbers are from uniform distributed\n",
    "    numbers.\n",
    "\n",
    "    `> runif(n,a,b)`\n",
    "\n",
    "-   Numbers selected from a non-uniform probability distribution can be\n",
    "    generated using a uniform distribution PRNG and a function that\n",
    "    relates the two distributions.\n",
    "\n",
    "-   Assume you have uniformly distributed random numbers from \\[0, 1\\],\n",
    "    how do you extend it to \\[a, b\\]?"
   ]
  },
  {
   "cell_type": "markdown",
   "id": "88049805",
   "metadata": {
    "slideshow": {
     "slide_type": "slide"
    }
   },
   "source": [
    "## Continuous random variables\n",
    "\n",
    "### Normal Distribution\n",
    "\n",
    "-   **The normal density function**\n",
    "    $$f(x, \\mu, \\sigma) = \\frac{1}{\\sigma\\sqrt{2\\pi}} e^{\n",
    "          -\\frac{(x-\\mu)^2}{2\\sigma^2} }$$\n",
    "\n",
    "    `> dnorm(x,mu,sigma)`\n",
    "\n",
    "    `> dnorm(x,mu,sigma, log=TRUE)`\n",
    "\n",
    "    -   In theory, `dnorm(x,mu,sigma, log=TRUE)==log(dnorm(x,mu,sigma))`\n",
    "        but `dnorm(x,mu,sigma, log=TRUE)` but is more stable for very\n",
    "        large values. Why?\n",
    "\n",
    "    -   **We love logs**."
   ]
  },
  {
   "cell_type": "markdown",
   "id": "3dbf69b5",
   "metadata": {
    "slideshow": {
     "slide_type": "slide"
    }
   },
   "source": [
    "-   **The CDF** (cumulate desity function)\n",
    "    $$\\Phi(x)\\;=\\int_{-\\infty}^x f(t, \\mu, \\sigma) d t$$\n",
    "\n",
    "    `> pnorm(q,mu,sigma)`\n",
    "\n",
    "-   **The quantile** (Given CDF, what is x?), i.e. $\\Phi^{-1}(p)$\n",
    "\n",
    "    `> qnorm(p,mu,sigma)`\n",
    "\n",
    "-   **Random numbers from normal distribution**\n",
    "\n",
    "    `> rnorm(n,mu,sigma)`"
   ]
  },
  {
   "cell_type": "code",
   "execution_count": 5,
   "id": "ea776f8c",
   "metadata": {
    "slideshow": {
     "slide_type": "slide"
    }
   },
   "outputs": [
    {
     "data": {
      "image/png": "[encoded data removed]",
      "text/plain": [
       "Plot with title “Histogram of z”"
      ]
     },
     "metadata": {
      "image/png": {
       "height": 180,
       "width": 240
      }
     },
     "output_type": "display_data"
    }
   ],
   "source": [
    "z = rnorm (100,mean=0, sd=1)\n",
    "hist(z)"
   ]
  },
  {
   "cell_type": "code",
   "execution_count": 3,
   "id": "de109e18",
   "metadata": {
    "slideshow": {
     "slide_type": "slide"
    }
   },
   "outputs": [
    {
     "data": {
      "image/png": "[encoded data removed]",
      "text/plain": [
       "plot without title"
      ]
     },
     "metadata": {
      "image/png": {
       "height": 180,
       "width": 240
      }
     },
     "output_type": "display_data"
    }
   ],
   "source": [
    "x  = seq(-5, 5, 0.1)\n",
    "y = dnorm(x = x, mean = 0, sd = 1)\n",
    "plot(x, y, col = \"blue\", type = \"l\", lwd = 4)"
   ]
  },
  {
   "cell_type": "code",
   "execution_count": 4,
   "id": "262ed398",
   "metadata": {
    "slideshow": {
     "slide_type": "slide"
    }
   },
   "outputs": [
    {
     "data": {
      "image/png": "[encoded data removed]",
      "text/plain": [
       "plot without title"
      ]
     },
     "metadata": {
      "image/png": {
       "height": 180,
       "width": 240
      }
     },
     "output_type": "display_data"
    }
   ],
   "source": [
    "y1 = pnorm(q = x, mean = 0, sd = 1)\n",
    "plot(x, y1, col = \"blue\", type = \"l\", lwd = 4)"
   ]
  },
  {
   "cell_type": "markdown",
   "id": "6b999182",
   "metadata": {
    "slideshow": {
     "slide_type": "slide"
    }
   },
   "source": [
    "### Other types of continuous distribution\n",
    "\n",
    "-   Distribution Function in R\n",
    "\n",
    "    Student t: `{p,d,q}t`\n",
    "    \n",
    "    Chi squared: `{p,d,q}chi`\n",
    "    \n",
    "    Gamma: `{p,d,q}gamma`\n",
    "    \n",
    "    Exponential `{p,d,q}exp`\n",
    "\n",
    "\n",
    "-   For a significance test, what distribution do you use?\n"
   ]
  },
  {
   "cell_type": "markdown",
   "id": "f99866f8",
   "metadata": {
    "slideshow": {
     "slide_type": "slide"
    }
   },
   "source": [
    "# Discrete random variables\n",
    "\n",
    "### Discrete random variables\n",
    "\n",
    "-   Distribution Function in R\n",
    "\n",
    "    Binomial: `{p,d,q}binorm`\n",
    "    \n",
    "    Negative binomial: `{p,d,q}nbinom`\n",
    "\n",
    "    Poisson: `{p,d,q}pois`\n",
    "    \n",
    "    Geometric: `{p,d,q}geom`\n",
    "    \n",
    "-   Bernoulli distribution is a special case of binomial distribution."
   ]
  },
  {
   "cell_type": "markdown",
   "id": "2c3bbedf",
   "metadata": {
    "slideshow": {
     "slide_type": "slide"
    }
   },
   "source": [
    "### Suggested reading\n",
    "\n",
    "-   Jones (2009): **Chapter 14, 15, 16**"
   ]
  }
 ],
 "metadata": {
  "celltoolbar": "Slideshow",
  "kernelspec": {
   "display_name": "R",
   "language": "R",
   "name": "ir"
  },
  "language_info": {
   "codemirror_mode": "r",
   "file_extension": ".r",
   "mimetype": "text/x-r-source",
   "name": "R",
   "pygments_lexer": "r",
   "version": "4.2.2"
  }
 },
 "nbformat": 4,
 "nbformat_minor": 5
}
