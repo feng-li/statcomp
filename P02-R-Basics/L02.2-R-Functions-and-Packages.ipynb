{
 "cells": [
  {
   "cell_type": "markdown",
   "id": "c57b2ce5",
   "metadata": {
    "slideshow": {
     "slide_type": "slide"
    }
   },
   "source": [
    "# R Functions and Packages\n",
    "\n",
    "\n",
    "Feng Li\n",
    "\n",
    "School of Statistics and Mathematics\n",
    "\n",
    "Central University of Finance and Economics\n",
    "\n",
    "[feng.li@cufe.edu.cn](mailto:feng.li@cufe.edu.cn)\n",
    "\n",
    "[https://feng.li/statcomp](https://feng.li/statcomp)\n",
    "\n",
    "_>>> Link to Python version_ [1](https://feng.li/files/python/P01-Python-from-Scratch/L01.3-Python-Functions-and-Modules.slides.html)"
   ]
  },
  {
   "cell_type": "markdown",
   "id": "a533c945",
   "metadata": {
    "slideshow": {
     "slide_type": "slide"
    }
   },
   "source": [
    "## Control-flow constructs\n",
    "\n",
    "### The `if` condition\n",
    "\n",
    "- Binary comparison\n",
    "\n",
    "        x == y    all.equal()    identical()\n",
    "        x != y\n",
    "        x > y\n",
    "        x < y\n",
    "        x >= y\n",
    "        x <= y\n",
    "        x %in% y\n",
    " \n",
    "- What would you expect when $x$ and $y$ are vectors, matrices ? ...\n"
   ]
  },
  {
   "cell_type": "markdown",
   "id": "9ca1e3c6",
   "metadata": {
    "slideshow": {
     "slide_type": "slide"
    }
   },
   "source": [
    "- The if condition statement in R\n",
    "\n",
    "        if (condition){\n",
    "          do something\n",
    "        }\n",
    "        else{\n",
    "          do something else\n",
    "        }"
   ]
  },
  {
   "cell_type": "markdown",
   "id": "57f0dd29",
   "metadata": {
    "slideshow": {
     "slide_type": "slide"
    }
   },
   "source": [
    "### Lab: Leap year check\n",
    "\n",
    "- February 29, known as a leap day in the calendar, is a date that occurs in most years that are evenly divisible by $4$, such as $2004$, $2008$, $2012$ and $2016$. Years that are evenly divisible by $100$ do not contain a leap day, with the exception of years that are evenly divisible by $400$, which do contain a leap day; thus $1900$ did not contain a leap day while $2000$ did.\n",
    "\n",
    "- Write a function called `is.leapday` to check if a given year has February 29 \\[Hint: you may need `?%%`.\\].\n",
    "\n",
    "- Test your function for some years.\n",
    "\n",
    "- What can you do to improve for the function in terms of error tolerance?\n",
    "\n",
    "- If I want to check which year has a leap day for a sequence of given years. Modify your function to implement it."
   ]
  },
  {
   "cell_type": "markdown",
   "id": "a8e135d8",
   "metadata": {
    "slideshow": {
     "slide_type": "slide"
    }
   },
   "source": [
    "## Loops\n",
    "\n",
    "- The for loop"
   ]
  },
  {
   "cell_type": "code",
   "execution_count": 2,
   "id": "4c1a5c36",
   "metadata": {
    "slideshow": {
     "slide_type": "fragment"
    }
   },
   "outputs": [
    {
     "data": {
      "text/html": [
       "<table class=\"dataframe\">\n",
       "<caption>A matrix: 2 × 5 of type int</caption>\n",
       "<tbody>\n",
       "\t<tr><td>101</td><td>105</td><td>109</td><td>113</td><td>117</td></tr>\n",
       "\t<tr><td>103</td><td>107</td><td>111</td><td>115</td><td>119</td></tr>\n",
       "</tbody>\n",
       "</table>\n"
      ],
      "text/latex": [
       "A matrix: 2 × 5 of type int\n",
       "\\begin{tabular}{lllll}\n",
       "\t 101 & 105 & 109 & 113 & 117\\\\\n",
       "\t 103 & 107 & 111 & 115 & 119\\\\\n",
       "\\end{tabular}\n"
      ],
      "text/markdown": [
       "\n",
       "A matrix: 2 × 5 of type int\n",
       "\n",
       "| 101 | 105 | 109 | 113 | 117 |\n",
       "| 103 | 107 | 111 | 115 | 119 |\n",
       "\n"
      ],
      "text/plain": [
       "     [,1] [,2] [,3] [,4] [,5]\n",
       "[1,] 101  105  109  113  117 \n",
       "[2,] 103  107  111  115  119 "
      ]
     },
     "metadata": {},
     "output_type": "display_data"
    }
   ],
   "source": [
    "B = matrix(1:10,2,5)\n",
    "C = matrix(100:109,2,5)\n",
    "A = matrix(NA,2,5)\n",
    "for(i in 1:length(A))\n",
    "{\n",
    "    A[i] = B[i] + C[i]\n",
    "}\n",
    "A"
   ]
  },
  {
   "cell_type": "markdown",
   "id": "41bcb10d",
   "metadata": {
    "slideshow": {
     "slide_type": "slide"
    }
   },
   "source": [
    "- The `while` loop"
   ]
  },
  {
   "cell_type": "code",
   "execution_count": 4,
   "id": "42c57e02",
   "metadata": {
    "slideshow": {
     "slide_type": "fragment"
    }
   },
   "outputs": [
    {
     "data": {
      "text/html": [
       "<table class=\"dataframe\">\n",
       "<caption>A matrix: 2 × 5 of type int</caption>\n",
       "<tbody>\n",
       "\t<tr><td>101</td><td>105</td><td>109</td><td>113</td><td>117</td></tr>\n",
       "\t<tr><td>103</td><td>107</td><td>111</td><td>115</td><td>119</td></tr>\n",
       "</tbody>\n",
       "</table>\n"
      ],
      "text/latex": [
       "A matrix: 2 × 5 of type int\n",
       "\\begin{tabular}{lllll}\n",
       "\t 101 & 105 & 109 & 113 & 117\\\\\n",
       "\t 103 & 107 & 111 & 115 & 119\\\\\n",
       "\\end{tabular}\n"
      ],
      "text/markdown": [
       "\n",
       "A matrix: 2 × 5 of type int\n",
       "\n",
       "| 101 | 105 | 109 | 113 | 117 |\n",
       "| 103 | 107 | 111 | 115 | 119 |\n",
       "\n"
      ],
      "text/plain": [
       "     [,1] [,2] [,3] [,4] [,5]\n",
       "[1,] 101  105  109  113  117 \n",
       "[2,] 103  107  111  115  119 "
      ]
     },
     "metadata": {},
     "output_type": "display_data"
    }
   ],
   "source": [
    "i = 0\n",
    "while(i < length(A))\n",
    "{  \n",
    "    i = i + 1\n",
    "    A[i] = B[i] + C[i]\n",
    "}\n",
    "A"
   ]
  },
  {
   "cell_type": "markdown",
   "id": "b4d61a77",
   "metadata": {
    "slideshow": {
     "slide_type": "slide"
    }
   },
   "source": [
    "### `apply()` type loops\n",
    "\n",
    "-   Calculate row sums for a matrix with a loop.\n",
    "\n",
    "-   Apply `sum()` function to each row of the matrix.\n",
    "\n",
    "-   `apply()` to an array with higher dimension.\n",
    "\n",
    "-   Apply your own function to each row of the matrix.\n",
    "\n",
    "-   `lapply()` Apply a function to a list\n",
    "\n",
    "-   `mapply()` Apply a function to multiple list or vector arguments.\n",
    "\n",
    "-   The \\... arguments in a function.\n",
    "\n",
    "-   Supply more arguments to `apply()` type functions."
   ]
  },
  {
   "cell_type": "markdown",
   "id": "5768ca55",
   "metadata": {
    "slideshow": {
     "slide_type": "slide"
    }
   },
   "source": [
    "- The advantages of `()apply`.\n",
    "\n",
    "    - Easy construct\n",
    "\n",
    "    - Less coding\n",
    "\n",
    "    - `apply()` type loops is essentially a more efficient version loop in R."
   ]
  },
  {
   "cell_type": "markdown",
   "id": "468f45d0",
   "metadata": {
    "slideshow": {
     "slide_type": "slide"
    }
   },
   "source": [
    "### Write efficient loops in R\n",
    "\n",
    "- Avoid loops as much as possible. We should always try to vectorize the calculations.\n",
    "\n",
    "- Use `()apply` type loop if possible.\n",
    "\n",
    "- Think a lot about under- and over-flow\n",
    "\n",
    "- Allocate the memory space before looping. This is a much slower\n",
    "    loop.\n",
    "\n",
    "        B = matrix(1:10,2,5)\n",
    "        C = matrix(100:109,2,5)\n",
    "        A = NULL\n",
    "        for(i in 1:n)\n",
    "        {\n",
    "          A[i] = B[i] + C[i]\n",
    "        }"
   ]
  },
  {
   "cell_type": "markdown",
   "id": "d1a1d292",
   "metadata": {
    "slideshow": {
     "slide_type": "slide"
    }
   },
   "source": [
    "### List Arithmetics\n",
    "\n",
    "- Apply a function to the elements of a list\n",
    "\n",
    "        lapply(X, FUN, ...)\n",
    "        rapply(object, f, how = c(\"unlist\",\"replace\", \"list\"), ...)"
   ]
  },
  {
   "cell_type": "markdown",
   "id": "0b58c9f5",
   "metadata": {
    "slideshow": {
     "slide_type": "slide"
    }
   },
   "source": [
    "- Operators with many lists\n",
    "\n",
    "        mapply(FUN, ..., MoreArgs = NULL, SIMPLIFY = TRUE, USE.NAMES = TRUE)\n",
    "        \n",
    "        mapply(\"+\", list1, list2, list3, SIMPLIFY = FALSE)\n",
    "        mapply(function(x, y) abs(x)*log(abs(y)), list1, list2, SIMPLIFY = FALSE)"
   ]
  },
  {
   "cell_type": "markdown",
   "id": "245b135c",
   "metadata": {
    "slideshow": {
     "slide_type": "slide"
    }
   },
   "source": [
    "## Functions\n",
    "\n",
    "- Create a function object\n",
    "\n",
    "        myFun = function (par)\n",
    "        {\n",
    "          out = max(par1) - min(par2)\n",
    "          return(out)\n",
    "        }\n",
    "\n",
    "- Load the function: \n",
    "    - Copy and paste to the R console.\n",
    "    - Save the function to a file and load it with the `source()` function.\n",
    "\n",
    "- Execute your function.\n",
    "\n"
   ]
  },
  {
   "cell_type": "markdown",
   "id": "41599e82",
   "metadata": {
    "slideshow": {
     "slide_type": "slide"
    }
   },
   "source": [
    "## What is a good function?\n",
    "\n",
    "- Validating the input parameter type\n",
    "- Simple in logic and implementation\n",
    "- Error catching\n",
    "- Using `return()`\n",
    "- Speed and performance matter."
   ]
  },
  {
   "cell_type": "markdown",
   "id": "a25ab3a5",
   "metadata": {
    "slideshow": {
     "slide_type": "slide"
    }
   },
   "source": [
    "### Lab: a summary function\n",
    "\n",
    "-  Write a function `mySummary` where the input argument is `x` can be any vector and the output should contain the basic summary (mean, variance, length, max and minimum values, type) of the vector you have supplied to the function.\n",
    "\n",
    "-  Test your function with some vectors (that you make up by yourself).\n",
    "\n",
    "-  What will happen if your input is not a vector (e.g. a data frame `weekPlanNew`) in our previous example?"
   ]
  },
  {
   "cell_type": "markdown",
   "id": "9bdd2d4f",
   "metadata": {
    "slideshow": {
     "slide_type": "slide"
    }
   },
   "source": [
    "### Lab: Roots function for the quadratic equation\n",
    "\n",
    "- The roots for the quadratic equation $ax^2+bx+c=0$ are of the form\n",
    "    $$\\label{eq:1}\n",
    "            x_1=\\frac{-b + \\sqrt {b^2-4ac}}{2a} \\quad \\text{and} \\quad\n",
    "            x_2=\\frac{-b - \\sqrt {b^2-4ac}}{2a}$$\n",
    "\n",
    "-  Write a function named `quaroot` to solve the roots of given\n",
    "    quadratic equation with `a ,b , c,` as input arguments. \\[Hint: you\n",
    "    may need the `sqrt()` function\\]\n",
    "\n",
    "- Test your function on the following equations $$\\label{eq:2}\n",
    "        \\begin{split}\n",
    "          x^2+4x-1=0\\\\\n",
    "          -2x^2+2x=0\\\\\n",
    "          3x^2-9x+1=0\\\\\n",
    "          x^2 -4 = 0\\\\\n",
    "        \\end{split}$$\n",
    "\n",
    "- Test your function with the equation $5x^2+2x+1=0$. What are the\n",
    "    results? Why? \\[Hint: check $b^2-4ac$\\]?\n",
    "\n",
    "- Modify your function and return `NA` if $b^2-4ac < 0$.\n"
   ]
  },
  {
   "cell_type": "code",
   "execution_count": 5,
   "id": "cbbffd63",
   "metadata": {
    "slideshow": {
     "slide_type": "slide"
    }
   },
   "outputs": [],
   "source": [
    "quaroot <- function(a, b, c)\n",
    "{\n",
    "    x1 <- (-b+sqrt(b^2-4*a*c))/(2*a)\n",
    "    x2 <- (-b-sqrt(b^2-4*a*c))/(2*a)\n",
    "\n",
    "    out <- c(x1, x2)\n",
    "    return(out)\n",
    "}"
   ]
  },
  {
   "cell_type": "code",
   "execution_count": 6,
   "id": "f8d00547",
   "metadata": {
    "slideshow": {
     "slide_type": "slide"
    }
   },
   "outputs": [],
   "source": [
    "quarootm <- function(a, b, c)\n",
    "{\n",
    "    d <- b^2-4*a*c\n",
    "\n",
    "    if(d<0)\n",
    "    {\n",
    "        x1 <- NA\n",
    "        x2 <- NA\n",
    "    }\n",
    "    else\n",
    "    {\n",
    "        x1 <- (-b+sqrt(d))/(2*a)\n",
    "        x2 <- (-b-sqrt(d))/(2*a)\n",
    "    }\n",
    "\n",
    "    out <- c(x1, x2)\n",
    "    return(out)\n",
    "}"
   ]
  },
  {
   "cell_type": "markdown",
   "id": "ebb47936",
   "metadata": {
    "slideshow": {
     "slide_type": "slide"
    }
   },
   "source": [
    "## Using R packages\n",
    "\n",
    "-   Load an R package: `library(\"PackageName\")` or\n",
    "    `require(\"PackageName\")`\n",
    "\n",
    "-   Install an R package from the Internet (CRAN):\n",
    "    `install.packages(\"PackageName\")`"
   ]
  },
  {
   "cell_type": "markdown",
   "id": "34f22bcd",
   "metadata": {
    "slideshow": {
     "slide_type": "slide"
    }
   },
   "source": [
    "-   Install an R package from GitHub with the `devtools` package:\n",
    "   \n",
    "           install.packages(\"devtools\")\n",
    "           devtools::install_github(\"ykang/gratis\")\n",
    "    \n",
    "-   If you have Windows system and sometimes you R package needs to compile, you need the \"Rtools\" software for building packages for R under Microsoft Windows, available at [https://cran.r-project.org/bin/windows/Rtools/](https://cran.r-project.org/bin/windows/Rtools/)."
   ]
  },
  {
   "cell_type": "markdown",
   "id": "64c9276b",
   "metadata": {
    "slideshow": {
     "slide_type": "slide"
    }
   },
   "source": [
    "### Coding Style\n",
    "\n",
    "- Good coding style is like correct punctuation.\n",
    "- Bottom line: your coding style should make other people easy to understand you code.\n",
    "- Suggested reading the tidyverse style guide: [https://style.tidyverse.org/](https://style.tidyverse.org/)"
   ]
  }
 ],
 "metadata": {
  "celltoolbar": "Slideshow",
  "kernelspec": {
   "display_name": "R",
   "language": "R",
   "name": "ir"
  },
  "language_info": {
   "codemirror_mode": "r",
   "file_extension": ".r",
   "mimetype": "text/x-r-source",
   "name": "R",
   "pygments_lexer": "r",
   "version": "4.2.2"
  }
 },
 "nbformat": 4,
 "nbformat_minor": 5
}
