{
 "cells": [
  {
   "cell_type": "markdown",
   "id": "c57b2ce5",
   "metadata": {
    "slideshow": {
     "slide_type": "slide"
    }
   },
   "source": [
    "# R Functions and Packages\n",
    "\n",
    "\n",
    "Feng Li\n",
    "\n",
    "School of Statistics and Mathematics\n",
    "\n",
    "Central University of Finance and Economics\n",
    "\n",
    "[feng.li@cufe.edu.cn](mailto:feng.li@cufe.edu.cn)\n",
    "\n",
    "[https://feng.li/statcomp](https://feng.li/statcomp)\n",
    "\n",
    "_>>> Link to Python version_ [1](https://feng.li/files/python/P01-Python-from-Scratch/L01.3-Python-Functions-and-Modules.slides.html)"
   ]
  },
  {
   "cell_type": "markdown",
   "id": "a533c945",
   "metadata": {
    "slideshow": {
     "slide_type": "slide"
    }
   },
   "source": [
    "## Control-flow constructs\n",
    "\n",
    "### The `if` condition\n",
    "\n",
    "- Binary comparison\n",
    "\n",
    "        x == y    all.equal()    identical()\n",
    "        x != y\n",
    "        x > y\n",
    "        x < y\n",
    "        x >= y\n",
    "        x <= y\n",
    "        x %in% y\n",
    " \n",
    "- What would you expect when $x$ and $y$ are vectors, matrices ? ...\n"
   ]
  },
  {
   "cell_type": "markdown",
   "id": "9ca1e3c6",
   "metadata": {
    "slideshow": {
     "slide_type": "slide"
    }
   },
   "source": [
    "- The if condition statement in R\n",
    "\n",
    "        if (condition){\n",
    "          do something\n",
    "        }\n",
    "        else{\n",
    "          do something else\n",
    "        }"
   ]
  },
  {
   "cell_type": "markdown",
   "id": "57f0dd29",
   "metadata": {
    "slideshow": {
     "slide_type": "slide"
    }
   },
   "source": [
    "### Lab: Leap year check\n",
    "\n",
    "- February 29, known as a leap day in the calendar, is a date that occurs in most years that are evenly divisible by $4$, such as $2004$, $2008$, $2012$ and $2016$. Years that are evenly divisible by $100$ do not contain a leap day, with the exception of years that are evenly divisible by $400$, which do contain a leap day; thus $1900$ did not contain a leap day while $2000$ did.\n",
    "\n",
    "- Write a function called `is.leapday` to check if a given year has February 29 \\[Hint: you may need `?%%`.\\].\n",
    "\n",
    "- Test your function for some years.\n",
    "\n",
    "- What can you do to improve for the function in terms of error tolerance?\n",
    "\n",
    "- If I want to check which year has a leap day for a sequence of given years. Modify your function to implement it."
   ]
  },
  {
   "cell_type": "markdown",
   "id": "a8e135d8",
   "metadata": {
    "slideshow": {
     "slide_type": "slide"
    }
   },
   "source": [
    "## Loops\n",
    "\n",
    "- The for loop"
   ]
  },
  {
   "cell_type": "code",
   "execution_count": 2,
   "id": "4c1a5c36",
   "metadata": {
    "slideshow": {
     "slide_type": "fragment"
    }
   },
   "outputs": [
    {
     "data": {
      "text/html": [
       "<table class=\"dataframe\">\n",
       "<caption>A matrix: 2 × 5 of type int</caption>\n",
       "<tbody>\n",
       "\t<tr><td>101</td><td>105</td><td>109</td><td>113</td><td>117</td></tr>\n",
       "\t<tr><td>103</td><td>107</td><td>111</td><td>115</td><td>119</td></tr>\n",
       "</tbody>\n",
       "</table>\n"
      ],
      "text/latex": [
       "A matrix: 2 × 5 of type int\n",
       "\\begin{tabular}{lllll}\n",
       "\t 101 & 105 & 109 & 113 & 117\\\\\n",
       "\t 103 & 107 & 111 & 115 & 119\\\\\n",
       "\\end{tabular}\n"
      ],
      "text/markdown": [
       "\n",
       "A matrix: 2 × 5 of type int\n",
       "\n",
       "| 101 | 105 | 109 | 113 | 117 |\n",
       "| 103 | 107 | 111 | 115 | 119 |\n",
       "\n"
      ],
      "text/plain": [
       "     [,1] [,2] [,3] [,4] [,5]\n",
       "[1,] 101  105  109  113  117 \n",
       "[2,] 103  107  111  115  119 "
      ]
     },
     "metadata": {},
     "output_type": "display_data"
    }
   ],
   "source": [
    "B = matrix(1:10,2,5)\n",
    "C = matrix(100:109,2,5)\n",
    "A = matrix(NA,2,5)\n",
    "for(i in 1:length(A))\n",
    "{\n",
    "    A[i] = B[i] + C[i]\n",
    "}\n",
    "A"
   ]
  },
  {
   "cell_type": "markdown",
   "id": "41bcb10d",
   "metadata": {
    "slideshow": {
     "slide_type": "slide"
    }
   },
   "source": [
    "- The `while` loop"
   ]
  },
  {
   "cell_type": "code",
   "execution_count": 4,
   "id": "42c57e02",
   "metadata": {
    "slideshow": {
     "slide_type": "fragment"
    }
   },
   "outputs": [
    {
     "data": {
      "text/html": [
       "<table class=\"dataframe\">\n",
       "<caption>A matrix: 2 × 5 of type int</caption>\n",
       "<tbody>\n",
       "\t<tr><td>101</td><td>105</td><td>109</td><td>113</td><td>117</td></tr>\n",
       "\t<tr><td>103</td><td>107</td><td>111</td><td>115</td><td>119</td></tr>\n",
       "</tbody>\n",
       "</table>\n"
      ],
      "text/latex": [
       "A matrix: 2 × 5 of type int\n",
       "\\begin{tabular}{lllll}\n",
       "\t 101 & 105 & 109 & 113 & 117\\\\\n",
       "\t 103 & 107 & 111 & 115 & 119\\\\\n",
       "\\end{tabular}\n"
      ],
      "text/markdown": [
       "\n",
       "A matrix: 2 × 5 of type int\n",
       "\n",
       "| 101 | 105 | 109 | 113 | 117 |\n",
       "| 103 | 107 | 111 | 115 | 119 |\n",
       "\n"
      ],
      "text/plain": [
       "     [,1] [,2] [,3] [,4] [,5]\n",
       "[1,] 101  105  109  113  117 \n",
       "[2,] 103  107  111  115  119 "
      ]
     },
     "metadata": {},
     "output_type": "display_data"
    }
   ],
   "source": [
    "i = 0\n",
    "while(i < length(A))\n",
    "{  \n",
    "    i = i + 1\n",
    "    A[i] = B[i] + C[i]\n",
    "}\n",
    "A"
   ]
  },
  {
   "cell_type": "markdown",
   "id": "b4d61a77",
   "metadata": {
    "slideshow": {
     "slide_type": "slide"
    }
   },
   "source": [
    "### `apply()` type loops\n",
    "\n",
    "-   Calculate row sums for a matrix with a loop.\n",
    "\n",
    "-   Apply `sum()` function to each row of the matrix.\n",
    "\n",
    "-   `apply()` to an array with higher dimension.\n",
    "\n",
    "-   Apply your own function to each row of the matrix.\n",
    "\n",
    "-   `lapply()` Apply a function to a list\n",
    "\n",
    "-   `mapply()` Apply a function to multiple list or vector arguments.\n",
    "\n",
    "-   The \\... arguments in a function.\n",
    "\n",
    "-   Supply more arguments to `apply()` type functions."
   ]
  },
  {
   "cell_type": "code",
   "execution_count": 2,
   "id": "8932ed0b",
   "metadata": {
    "slideshow": {
     "slide_type": "slide"
    }
   },
   "outputs": [
    {
     "data": {
      "text/html": [
       "<table class=\"dataframe\">\n",
       "<caption>A matrix: 20 × 5 of type int</caption>\n",
       "<tbody>\n",
       "\t<tr><td> 1</td><td>21</td><td>41</td><td>61</td><td> 81</td></tr>\n",
       "\t<tr><td> 2</td><td>22</td><td>42</td><td>62</td><td> 82</td></tr>\n",
       "\t<tr><td> 3</td><td>23</td><td>43</td><td>63</td><td> 83</td></tr>\n",
       "\t<tr><td> 4</td><td>24</td><td>44</td><td>64</td><td> 84</td></tr>\n",
       "\t<tr><td> 5</td><td>25</td><td>45</td><td>65</td><td> 85</td></tr>\n",
       "\t<tr><td> 6</td><td>26</td><td>46</td><td>66</td><td> 86</td></tr>\n",
       "\t<tr><td> 7</td><td>27</td><td>47</td><td>67</td><td> 87</td></tr>\n",
       "\t<tr><td> 8</td><td>28</td><td>48</td><td>68</td><td> 88</td></tr>\n",
       "\t<tr><td> 9</td><td>29</td><td>49</td><td>69</td><td> 89</td></tr>\n",
       "\t<tr><td>10</td><td>30</td><td>50</td><td>70</td><td> 90</td></tr>\n",
       "\t<tr><td>11</td><td>31</td><td>51</td><td>71</td><td> 91</td></tr>\n",
       "\t<tr><td>12</td><td>32</td><td>52</td><td>72</td><td> 92</td></tr>\n",
       "\t<tr><td>13</td><td>33</td><td>53</td><td>73</td><td> 93</td></tr>\n",
       "\t<tr><td>14</td><td>34</td><td>54</td><td>74</td><td> 94</td></tr>\n",
       "\t<tr><td>15</td><td>35</td><td>55</td><td>75</td><td> 95</td></tr>\n",
       "\t<tr><td>16</td><td>36</td><td>56</td><td>76</td><td> 96</td></tr>\n",
       "\t<tr><td>17</td><td>37</td><td>57</td><td>77</td><td> 97</td></tr>\n",
       "\t<tr><td>18</td><td>38</td><td>58</td><td>78</td><td> 98</td></tr>\n",
       "\t<tr><td>19</td><td>39</td><td>59</td><td>79</td><td> 99</td></tr>\n",
       "\t<tr><td>20</td><td>40</td><td>60</td><td>80</td><td>100</td></tr>\n",
       "</tbody>\n",
       "</table>\n"
      ],
      "text/latex": [
       "A matrix: 20 × 5 of type int\n",
       "\\begin{tabular}{lllll}\n",
       "\t  1 & 21 & 41 & 61 &  81\\\\\n",
       "\t  2 & 22 & 42 & 62 &  82\\\\\n",
       "\t  3 & 23 & 43 & 63 &  83\\\\\n",
       "\t  4 & 24 & 44 & 64 &  84\\\\\n",
       "\t  5 & 25 & 45 & 65 &  85\\\\\n",
       "\t  6 & 26 & 46 & 66 &  86\\\\\n",
       "\t  7 & 27 & 47 & 67 &  87\\\\\n",
       "\t  8 & 28 & 48 & 68 &  88\\\\\n",
       "\t  9 & 29 & 49 & 69 &  89\\\\\n",
       "\t 10 & 30 & 50 & 70 &  90\\\\\n",
       "\t 11 & 31 & 51 & 71 &  91\\\\\n",
       "\t 12 & 32 & 52 & 72 &  92\\\\\n",
       "\t 13 & 33 & 53 & 73 &  93\\\\\n",
       "\t 14 & 34 & 54 & 74 &  94\\\\\n",
       "\t 15 & 35 & 55 & 75 &  95\\\\\n",
       "\t 16 & 36 & 56 & 76 &  96\\\\\n",
       "\t 17 & 37 & 57 & 77 &  97\\\\\n",
       "\t 18 & 38 & 58 & 78 &  98\\\\\n",
       "\t 19 & 39 & 59 & 79 &  99\\\\\n",
       "\t 20 & 40 & 60 & 80 & 100\\\\\n",
       "\\end{tabular}\n"
      ],
      "text/markdown": [
       "\n",
       "A matrix: 20 × 5 of type int\n",
       "\n",
       "|  1 | 21 | 41 | 61 |  81 |\n",
       "|  2 | 22 | 42 | 62 |  82 |\n",
       "|  3 | 23 | 43 | 63 |  83 |\n",
       "|  4 | 24 | 44 | 64 |  84 |\n",
       "|  5 | 25 | 45 | 65 |  85 |\n",
       "|  6 | 26 | 46 | 66 |  86 |\n",
       "|  7 | 27 | 47 | 67 |  87 |\n",
       "|  8 | 28 | 48 | 68 |  88 |\n",
       "|  9 | 29 | 49 | 69 |  89 |\n",
       "| 10 | 30 | 50 | 70 |  90 |\n",
       "| 11 | 31 | 51 | 71 |  91 |\n",
       "| 12 | 32 | 52 | 72 |  92 |\n",
       "| 13 | 33 | 53 | 73 |  93 |\n",
       "| 14 | 34 | 54 | 74 |  94 |\n",
       "| 15 | 35 | 55 | 75 |  95 |\n",
       "| 16 | 36 | 56 | 76 |  96 |\n",
       "| 17 | 37 | 57 | 77 |  97 |\n",
       "| 18 | 38 | 58 | 78 |  98 |\n",
       "| 19 | 39 | 59 | 79 |  99 |\n",
       "| 20 | 40 | 60 | 80 | 100 |\n",
       "\n"
      ],
      "text/plain": [
       "      [,1] [,2] [,3] [,4] [,5]\n",
       " [1,]  1   21   41   61    81 \n",
       " [2,]  2   22   42   62    82 \n",
       " [3,]  3   23   43   63    83 \n",
       " [4,]  4   24   44   64    84 \n",
       " [5,]  5   25   45   65    85 \n",
       " [6,]  6   26   46   66    86 \n",
       " [7,]  7   27   47   67    87 \n",
       " [8,]  8   28   48   68    88 \n",
       " [9,]  9   29   49   69    89 \n",
       "[10,] 10   30   50   70    90 \n",
       "[11,] 11   31   51   71    91 \n",
       "[12,] 12   32   52   72    92 \n",
       "[13,] 13   33   53   73    93 \n",
       "[14,] 14   34   54   74    94 \n",
       "[15,] 15   35   55   75    95 \n",
       "[16,] 16   36   56   76    96 \n",
       "[17,] 17   37   57   77    97 \n",
       "[18,] 18   38   58   78    98 \n",
       "[19,] 19   39   59   79    99 \n",
       "[20,] 20   40   60   80   100 "
      ]
     },
     "metadata": {},
     "output_type": "display_data"
    }
   ],
   "source": [
    "mat = matrix(1:100,20,5)\n",
    "mat"
   ]
  },
  {
   "cell_type": "code",
   "execution_count": 5,
   "id": "b55c3787",
   "metadata": {
    "slideshow": {
     "slide_type": "slide"
    }
   },
   "outputs": [
    {
     "data": {
      "text/html": [
       "<style>\n",
       ".list-inline {list-style: none; margin:0; padding: 0}\n",
       ".list-inline>li {display: inline-block}\n",
       ".list-inline>li:not(:last-child)::after {content: \"\\00b7\"; padding: 0 .5ex}\n",
       "</style>\n",
       "<ol class=list-inline><li>10.5</li><li>30.5</li><li>50.5</li><li>70.5</li><li>90.5</li></ol>\n"
      ],
      "text/latex": [
       "\\begin{enumerate*}\n",
       "\\item 10.5\n",
       "\\item 30.5\n",
       "\\item 50.5\n",
       "\\item 70.5\n",
       "\\item 90.5\n",
       "\\end{enumerate*}\n"
      ],
      "text/markdown": [
       "1. 10.5\n",
       "2. 30.5\n",
       "3. 50.5\n",
       "4. 70.5\n",
       "5. 90.5\n",
       "\n",
       "\n"
      ],
      "text/plain": [
       "[1] 10.5 30.5 50.5 70.5 90.5"
      ]
     },
     "metadata": {},
     "output_type": "display_data"
    },
    {
     "data": {
      "text/html": [
       "<style>\n",
       ".list-inline {list-style: none; margin:0; padding: 0}\n",
       ".list-inline>li {display: inline-block}\n",
       ".list-inline>li:not(:last-child)::after {content: \"\\00b7\"; padding: 0 .5ex}\n",
       "</style>\n",
       "<ol class=list-inline><li>41</li><li>42</li><li>43</li><li>44</li><li>45</li><li>46</li><li>47</li><li>48</li><li>49</li><li>50</li><li>51</li><li>52</li><li>53</li><li>54</li><li>55</li><li>56</li><li>57</li><li>58</li><li>59</li><li>60</li></ol>\n"
      ],
      "text/latex": [
       "\\begin{enumerate*}\n",
       "\\item 41\n",
       "\\item 42\n",
       "\\item 43\n",
       "\\item 44\n",
       "\\item 45\n",
       "\\item 46\n",
       "\\item 47\n",
       "\\item 48\n",
       "\\item 49\n",
       "\\item 50\n",
       "\\item 51\n",
       "\\item 52\n",
       "\\item 53\n",
       "\\item 54\n",
       "\\item 55\n",
       "\\item 56\n",
       "\\item 57\n",
       "\\item 58\n",
       "\\item 59\n",
       "\\item 60\n",
       "\\end{enumerate*}\n"
      ],
      "text/markdown": [
       "1. 41\n",
       "2. 42\n",
       "3. 43\n",
       "4. 44\n",
       "5. 45\n",
       "6. 46\n",
       "7. 47\n",
       "8. 48\n",
       "9. 49\n",
       "10. 50\n",
       "11. 51\n",
       "12. 52\n",
       "13. 53\n",
       "14. 54\n",
       "15. 55\n",
       "16. 56\n",
       "17. 57\n",
       "18. 58\n",
       "19. 59\n",
       "20. 60\n",
       "\n",
       "\n"
      ],
      "text/plain": [
       " [1] 41 42 43 44 45 46 47 48 49 50 51 52 53 54 55 56 57 58 59 60"
      ]
     },
     "metadata": {},
     "output_type": "display_data"
    },
    {
     "data": {
      "text/html": [
       "<style>\n",
       ".list-inline {list-style: none; margin:0; padding: 0}\n",
       ".list-inline>li {display: inline-block}\n",
       ".list-inline>li:not(:last-child)::after {content: \"\\00b7\"; padding: 0 .5ex}\n",
       "</style>\n",
       "<ol class=list-inline><li>5.91607978309962</li><li>5.91607978309962</li><li>5.91607978309962</li><li>5.91607978309962</li><li>5.91607978309962</li></ol>\n"
      ],
      "text/latex": [
       "\\begin{enumerate*}\n",
       "\\item 5.91607978309962\n",
       "\\item 5.91607978309962\n",
       "\\item 5.91607978309962\n",
       "\\item 5.91607978309962\n",
       "\\item 5.91607978309962\n",
       "\\end{enumerate*}\n"
      ],
      "text/markdown": [
       "1. 5.91607978309962\n",
       "2. 5.91607978309962\n",
       "3. 5.91607978309962\n",
       "4. 5.91607978309962\n",
       "5. 5.91607978309962\n",
       "\n",
       "\n"
      ],
      "text/plain": [
       "[1] 5.91608 5.91608 5.91608 5.91608 5.91608"
      ]
     },
     "metadata": {},
     "output_type": "display_data"
    }
   ],
   "source": [
    "apply(mat, 2, mean)\n",
    "apply(mat, 1, mean)\n",
    "apply(mat, 2, sd)"
   ]
  },
  {
   "cell_type": "code",
   "execution_count": 6,
   "id": "e821abba",
   "metadata": {
    "slideshow": {
     "slide_type": "slide"
    }
   },
   "outputs": [],
   "source": [
    "arr = array(1:240, c(20,3,4))"
   ]
  },
  {
   "cell_type": "code",
   "execution_count": 9,
   "id": "b22453d7",
   "metadata": {
    "slideshow": {
     "slide_type": "slide"
    }
   },
   "outputs": [
    {
     "data": {
      "text/html": [
       "<style>\n",
       ".list-inline {list-style: none; margin:0; padding: 0}\n",
       ".list-inline>li {display: inline-block}\n",
       ".list-inline>li:not(:last-child)::after {content: \"\\00b7\"; padding: 0 .5ex}\n",
       "</style>\n",
       "<ol class=list-inline><li>30.5</li><li>90.5</li><li>150.5</li><li>210.5</li></ol>\n"
      ],
      "text/latex": [
       "\\begin{enumerate*}\n",
       "\\item 30.5\n",
       "\\item 90.5\n",
       "\\item 150.5\n",
       "\\item 210.5\n",
       "\\end{enumerate*}\n"
      ],
      "text/markdown": [
       "1. 30.5\n",
       "2. 90.5\n",
       "3. 150.5\n",
       "4. 210.5\n",
       "\n",
       "\n"
      ],
      "text/plain": [
       "[1]  30.5  90.5 150.5 210.5"
      ]
     },
     "metadata": {},
     "output_type": "display_data"
    },
    {
     "data": {
      "text/html": [
       "<table class=\"dataframe\">\n",
       "<caption>A matrix: 20 × 3 of type dbl</caption>\n",
       "<tbody>\n",
       "\t<tr><td> 91</td><td>111</td><td>131</td></tr>\n",
       "\t<tr><td> 92</td><td>112</td><td>132</td></tr>\n",
       "\t<tr><td> 93</td><td>113</td><td>133</td></tr>\n",
       "\t<tr><td> 94</td><td>114</td><td>134</td></tr>\n",
       "\t<tr><td> 95</td><td>115</td><td>135</td></tr>\n",
       "\t<tr><td> 96</td><td>116</td><td>136</td></tr>\n",
       "\t<tr><td> 97</td><td>117</td><td>137</td></tr>\n",
       "\t<tr><td> 98</td><td>118</td><td>138</td></tr>\n",
       "\t<tr><td> 99</td><td>119</td><td>139</td></tr>\n",
       "\t<tr><td>100</td><td>120</td><td>140</td></tr>\n",
       "\t<tr><td>101</td><td>121</td><td>141</td></tr>\n",
       "\t<tr><td>102</td><td>122</td><td>142</td></tr>\n",
       "\t<tr><td>103</td><td>123</td><td>143</td></tr>\n",
       "\t<tr><td>104</td><td>124</td><td>144</td></tr>\n",
       "\t<tr><td>105</td><td>125</td><td>145</td></tr>\n",
       "\t<tr><td>106</td><td>126</td><td>146</td></tr>\n",
       "\t<tr><td>107</td><td>127</td><td>147</td></tr>\n",
       "\t<tr><td>108</td><td>128</td><td>148</td></tr>\n",
       "\t<tr><td>109</td><td>129</td><td>149</td></tr>\n",
       "\t<tr><td>110</td><td>130</td><td>150</td></tr>\n",
       "</tbody>\n",
       "</table>\n"
      ],
      "text/latex": [
       "A matrix: 20 × 3 of type dbl\n",
       "\\begin{tabular}{lll}\n",
       "\t  91 & 111 & 131\\\\\n",
       "\t  92 & 112 & 132\\\\\n",
       "\t  93 & 113 & 133\\\\\n",
       "\t  94 & 114 & 134\\\\\n",
       "\t  95 & 115 & 135\\\\\n",
       "\t  96 & 116 & 136\\\\\n",
       "\t  97 & 117 & 137\\\\\n",
       "\t  98 & 118 & 138\\\\\n",
       "\t  99 & 119 & 139\\\\\n",
       "\t 100 & 120 & 140\\\\\n",
       "\t 101 & 121 & 141\\\\\n",
       "\t 102 & 122 & 142\\\\\n",
       "\t 103 & 123 & 143\\\\\n",
       "\t 104 & 124 & 144\\\\\n",
       "\t 105 & 125 & 145\\\\\n",
       "\t 106 & 126 & 146\\\\\n",
       "\t 107 & 127 & 147\\\\\n",
       "\t 108 & 128 & 148\\\\\n",
       "\t 109 & 129 & 149\\\\\n",
       "\t 110 & 130 & 150\\\\\n",
       "\\end{tabular}\n"
      ],
      "text/markdown": [
       "\n",
       "A matrix: 20 × 3 of type dbl\n",
       "\n",
       "|  91 | 111 | 131 |\n",
       "|  92 | 112 | 132 |\n",
       "|  93 | 113 | 133 |\n",
       "|  94 | 114 | 134 |\n",
       "|  95 | 115 | 135 |\n",
       "|  96 | 116 | 136 |\n",
       "|  97 | 117 | 137 |\n",
       "|  98 | 118 | 138 |\n",
       "|  99 | 119 | 139 |\n",
       "| 100 | 120 | 140 |\n",
       "| 101 | 121 | 141 |\n",
       "| 102 | 122 | 142 |\n",
       "| 103 | 123 | 143 |\n",
       "| 104 | 124 | 144 |\n",
       "| 105 | 125 | 145 |\n",
       "| 106 | 126 | 146 |\n",
       "| 107 | 127 | 147 |\n",
       "| 108 | 128 | 148 |\n",
       "| 109 | 129 | 149 |\n",
       "| 110 | 130 | 150 |\n",
       "\n"
      ],
      "text/plain": [
       "      [,1] [,2] [,3]\n",
       " [1,]  91  111  131 \n",
       " [2,]  92  112  132 \n",
       " [3,]  93  113  133 \n",
       " [4,]  94  114  134 \n",
       " [5,]  95  115  135 \n",
       " [6,]  96  116  136 \n",
       " [7,]  97  117  137 \n",
       " [8,]  98  118  138 \n",
       " [9,]  99  119  139 \n",
       "[10,] 100  120  140 \n",
       "[11,] 101  121  141 \n",
       "[12,] 102  122  142 \n",
       "[13,] 103  123  143 \n",
       "[14,] 104  124  144 \n",
       "[15,] 105  125  145 \n",
       "[16,] 106  126  146 \n",
       "[17,] 107  127  147 \n",
       "[18,] 108  128  148 \n",
       "[19,] 109  129  149 \n",
       "[20,] 110  130  150 "
      ]
     },
     "metadata": {},
     "output_type": "display_data"
    }
   ],
   "source": [
    "apply(arr, 3, mean)\n",
    "apply(arr, c(1, 2), mean)"
   ]
  },
  {
   "cell_type": "code",
   "execution_count": 10,
   "id": "fe676a69",
   "metadata": {
    "slideshow": {
     "slide_type": "slide"
    }
   },
   "outputs": [
    {
     "data": {
      "text/html": [
       "<style>\n",
       ".list-inline {list-style: none; margin:0; padding: 0}\n",
       ".list-inline>li {display: inline-block}\n",
       ".list-inline>li:not(:last-child)::after {content: \"\\00b7\"; padding: 0 .5ex}\n",
       "</style>\n",
       "<ol class=list-inline><li>19</li><li>19</li><li>19</li><li>19</li><li>19</li></ol>\n"
      ],
      "text/latex": [
       "\\begin{enumerate*}\n",
       "\\item 19\n",
       "\\item 19\n",
       "\\item 19\n",
       "\\item 19\n",
       "\\item 19\n",
       "\\end{enumerate*}\n"
      ],
      "text/markdown": [
       "1. 19\n",
       "2. 19\n",
       "3. 19\n",
       "4. 19\n",
       "5. 19\n",
       "\n",
       "\n"
      ],
      "text/plain": [
       "[1] 19 19 19 19 19"
      ]
     },
     "metadata": {},
     "output_type": "display_data"
    }
   ],
   "source": [
    "apply(mat, 2, function (x) max(x)-min(x))"
   ]
  },
  {
   "cell_type": "code",
   "execution_count": 11,
   "id": "e29dd4be",
   "metadata": {
    "slideshow": {
     "slide_type": "slide"
    }
   },
   "outputs": [
    {
     "data": {
      "text/html": [
       "<style>\n",
       ".list-inline {list-style: none; margin:0; padding: 0}\n",
       ".list-inline>li {display: inline-block}\n",
       ".list-inline>li:not(:last-child)::after {content: \"\\00b7\"; padding: 0 .5ex}\n",
       "</style>\n",
       "<ol class=list-inline><li>19</li><li>19</li><li>19</li><li>19</li><li>19</li></ol>\n"
      ],
      "text/latex": [
       "\\begin{enumerate*}\n",
       "\\item 19\n",
       "\\item 19\n",
       "\\item 19\n",
       "\\item 19\n",
       "\\item 19\n",
       "\\end{enumerate*}\n"
      ],
      "text/markdown": [
       "1. 19\n",
       "2. 19\n",
       "3. 19\n",
       "4. 19\n",
       "5. 19\n",
       "\n",
       "\n"
      ],
      "text/plain": [
       "[1] 19 19 19 19 19"
      ]
     },
     "metadata": {},
     "output_type": "display_data"
    }
   ],
   "source": [
    "maxmin = function (x) {\n",
    "    max(x)-min(x)\n",
    "}\n",
    "\n",
    "apply(mat, 2, maxmin)"
   ]
  },
  {
   "cell_type": "markdown",
   "id": "5768ca55",
   "metadata": {
    "slideshow": {
     "slide_type": "slide"
    }
   },
   "source": [
    "- The advantages of `()apply`.\n",
    "\n",
    "    - Easy construct\n",
    "\n",
    "    - Less coding\n",
    "\n",
    "    - `apply()` type loops is essentially a more efficient version loop in R."
   ]
  },
  {
   "cell_type": "markdown",
   "id": "468f45d0",
   "metadata": {
    "slideshow": {
     "slide_type": "slide"
    }
   },
   "source": [
    "### Write efficient loops in R\n",
    "\n",
    "- Avoid loops as much as possible. We should always try to vectorize the calculations.\n",
    "\n",
    "- Use `()apply` type loop if possible.\n",
    "\n",
    "- Think a lot about under- and over-flow\n",
    "\n",
    "- Allocate the memory space before looping. This is a much slower\n",
    "    loop.\n",
    "\n",
    "        B = matrix(1:10,2,5)\n",
    "        C = matrix(100:109,2,5)\n",
    "        A = NULL\n",
    "        for(i in 1:n)\n",
    "        {\n",
    "          A[i] = B[i] + C[i]\n",
    "        }"
   ]
  },
  {
   "cell_type": "markdown",
   "id": "d1a1d292",
   "metadata": {
    "slideshow": {
     "slide_type": "slide"
    }
   },
   "source": [
    "### List Arithmetics\n",
    "\n",
    "- Apply a function to the elements of a list\n",
    "\n",
    "        lapply(X, FUN, ...)\n",
    "        rapply(object, f, how = c(\"unlist\",\"replace\", \"list\"), ...)"
   ]
  },
  {
   "cell_type": "markdown",
   "id": "0b58c9f5",
   "metadata": {
    "slideshow": {
     "slide_type": "slide"
    }
   },
   "source": [
    "- Operators with many lists\n",
    "\n",
    "        mapply(FUN, ..., MoreArgs = NULL, SIMPLIFY = TRUE, USE.NAMES = TRUE)\n",
    "        \n",
    "        mapply(\"+\", list1, list2, list3, SIMPLIFY = FALSE)\n",
    "        mapply(function(x, y) abs(x)*log(abs(y)), list1, list2, SIMPLIFY = FALSE)"
   ]
  },
  {
   "cell_type": "code",
   "execution_count": 13,
   "id": "0f52f710",
   "metadata": {
    "slideshow": {
     "slide_type": "slide"
    }
   },
   "outputs": [
    {
     "data": {
      "text/html": [
       "<dl>\n",
       "\t<dt>$a</dt>\n",
       "\t\t<dd><style>\n",
       ".list-inline {list-style: none; margin:0; padding: 0}\n",
       ".list-inline>li {display: inline-block}\n",
       ".list-inline>li:not(:last-child)::after {content: \"\\00b7\"; padding: 0 .5ex}\n",
       "</style>\n",
       "<ol class=list-inline><li>-1.26589644825265</li><li>-0.068573308896311</li><li>0.658409475454285</li><li>-0.221881865339709</li><li>0.58070039713217</li><li>0.630319389017115</li><li>-0.242213569358942</li><li>0.97023453146676</li><li>0.351854369172614</li><li>-1.33262148487691</li></ol>\n",
       "</dd>\n",
       "\t<dt>$b</dt>\n",
       "\t\t<dd><style>\n",
       ".list-inline {list-style: none; margin:0; padding: 0}\n",
       ".list-inline>li {display: inline-block}\n",
       ".list-inline>li:not(:last-child)::after {content: \"\\00b7\"; padding: 0 .5ex}\n",
       "</style>\n",
       "<ol class=list-inline><li>1</li><li>2</li><li>3</li><li>4</li><li>5</li><li>6</li><li>7</li><li>8</li><li>9</li></ol>\n",
       "</dd>\n",
       "\t<dt>$c</dt>\n",
       "\t\t<dd><style>\n",
       ".list-inline {list-style: none; margin:0; padding: 0}\n",
       ".list-inline>li {display: inline-block}\n",
       ".list-inline>li:not(:last-child)::after {content: \"\\00b7\"; padding: 0 .5ex}\n",
       "</style>\n",
       "<ol class=list-inline><li>0.181591403437778</li><li>0.164184056222439</li><li>0.390080413082615</li><li>0.657432082109153</li><li>0.256644821958616</li><li>0.564072602661327</li><li>0.525960478000343</li><li>0.604819754138589</li><li>0.951666688779369</li><li>0.97638466511853</li><li>0.508973858784884</li><li>0.284509904216975</li><li>0.563456729985774</li><li>0.968111847294495</li><li>0.453518448630348</li><li>0.633869176264852</li><li>0.606082778424025</li><li>0.908481978345662</li><li>0.129783247830346</li><li>0.170731674181297</li></ol>\n",
       "</dd>\n",
       "</dl>\n"
      ],
      "text/latex": [
       "\\begin{description}\n",
       "\\item[\\$a] \\begin{enumerate*}\n",
       "\\item -1.26589644825265\n",
       "\\item -0.068573308896311\n",
       "\\item 0.658409475454285\n",
       "\\item -0.221881865339709\n",
       "\\item 0.58070039713217\n",
       "\\item 0.630319389017115\n",
       "\\item -0.242213569358942\n",
       "\\item 0.97023453146676\n",
       "\\item 0.351854369172614\n",
       "\\item -1.33262148487691\n",
       "\\end{enumerate*}\n",
       "\n",
       "\\item[\\$b] \\begin{enumerate*}\n",
       "\\item 1\n",
       "\\item 2\n",
       "\\item 3\n",
       "\\item 4\n",
       "\\item 5\n",
       "\\item 6\n",
       "\\item 7\n",
       "\\item 8\n",
       "\\item 9\n",
       "\\end{enumerate*}\n",
       "\n",
       "\\item[\\$c] \\begin{enumerate*}\n",
       "\\item 0.181591403437778\n",
       "\\item 0.164184056222439\n",
       "\\item 0.390080413082615\n",
       "\\item 0.657432082109153\n",
       "\\item 0.256644821958616\n",
       "\\item 0.564072602661327\n",
       "\\item 0.525960478000343\n",
       "\\item 0.604819754138589\n",
       "\\item 0.951666688779369\n",
       "\\item 0.97638466511853\n",
       "\\item 0.508973858784884\n",
       "\\item 0.284509904216975\n",
       "\\item 0.563456729985774\n",
       "\\item 0.968111847294495\n",
       "\\item 0.453518448630348\n",
       "\\item 0.633869176264852\n",
       "\\item 0.606082778424025\n",
       "\\item 0.908481978345662\n",
       "\\item 0.129783247830346\n",
       "\\item 0.170731674181297\n",
       "\\end{enumerate*}\n",
       "\n",
       "\\end{description}\n"
      ],
      "text/markdown": [
       "$a\n",
       ":   1. -1.26589644825265\n",
       "2. -0.068573308896311\n",
       "3. 0.658409475454285\n",
       "4. -0.221881865339709\n",
       "5. 0.58070039713217\n",
       "6. 0.630319389017115\n",
       "7. -0.242213569358942\n",
       "8. 0.97023453146676\n",
       "9. 0.351854369172614\n",
       "10. -1.33262148487691\n",
       "\n",
       "\n",
       "\n",
       "$b\n",
       ":   1. 1\n",
       "2. 2\n",
       "3. 3\n",
       "4. 4\n",
       "5. 5\n",
       "6. 6\n",
       "7. 7\n",
       "8. 8\n",
       "9. 9\n",
       "\n",
       "\n",
       "\n",
       "$c\n",
       ":   1. 0.181591403437778\n",
       "2. 0.164184056222439\n",
       "3. 0.390080413082615\n",
       "4. 0.657432082109153\n",
       "5. 0.256644821958616\n",
       "6. 0.564072602661327\n",
       "7. 0.525960478000343\n",
       "8. 0.604819754138589\n",
       "9. 0.951666688779369\n",
       "10. 0.97638466511853\n",
       "11. 0.508973858784884\n",
       "12. 0.284509904216975\n",
       "13. 0.563456729985774\n",
       "14. 0.968111847294495\n",
       "15. 0.453518448630348\n",
       "16. 0.633869176264852\n",
       "17. 0.606082778424025\n",
       "18. 0.908481978345662\n",
       "19. 0.129783247830346\n",
       "20. 0.170731674181297\n",
       "\n",
       "\n",
       "\n",
       "\n",
       "\n"
      ],
      "text/plain": [
       "$a\n",
       " [1] -1.26589645 -0.06857331  0.65840948 -0.22188187  0.58070040  0.63031939\n",
       " [7] -0.24221357  0.97023453  0.35185437 -1.33262148\n",
       "\n",
       "$b\n",
       "[1] 1 2 3 4 5 6 7 8 9\n",
       "\n",
       "$c\n",
       " [1] 0.1815914 0.1641841 0.3900804 0.6574321 0.2566448 0.5640726 0.5259605\n",
       " [8] 0.6048198 0.9516667 0.9763847 0.5089739 0.2845099 0.5634567 0.9681118\n",
       "[15] 0.4535184 0.6338692 0.6060828 0.9084820 0.1297832 0.1707317\n"
      ]
     },
     "metadata": {},
     "output_type": "display_data"
    }
   ],
   "source": [
    "lst = list (a= rnorm(10), b= 1:9, c=runif(20))\n",
    "lst"
   ]
  },
  {
   "cell_type": "code",
   "execution_count": 16,
   "id": "ce7ebd9e",
   "metadata": {
    "scrolled": true,
    "slideshow": {
     "slide_type": "slide"
    }
   },
   "outputs": [
    {
     "data": {
      "text/html": [
       "3"
      ],
      "text/latex": [
       "3"
      ],
      "text/markdown": [
       "3"
      ],
      "text/plain": [
       "[1] 3"
      ]
     },
     "metadata": {},
     "output_type": "display_data"
    },
    {
     "data": {
      "text/html": [
       "<dl>\n",
       "\t<dt>$a</dt>\n",
       "\t\t<dd>10</dd>\n",
       "\t<dt>$b</dt>\n",
       "\t\t<dd>9</dd>\n",
       "\t<dt>$c</dt>\n",
       "\t\t<dd>20</dd>\n",
       "</dl>\n"
      ],
      "text/latex": [
       "\\begin{description}\n",
       "\\item[\\$a] 10\n",
       "\\item[\\$b] 9\n",
       "\\item[\\$c] 20\n",
       "\\end{description}\n"
      ],
      "text/markdown": [
       "$a\n",
       ":   10\n",
       "$b\n",
       ":   9\n",
       "$c\n",
       ":   20\n",
       "\n",
       "\n"
      ],
      "text/plain": [
       "$a\n",
       "[1] 10\n",
       "\n",
       "$b\n",
       "[1] 9\n",
       "\n",
       "$c\n",
       "[1] 20\n"
      ]
     },
     "metadata": {},
     "output_type": "display_data"
    },
    {
     "data": {
      "text/html": [
       "<dl>\n",
       "\t<dt>$a</dt>\n",
       "\t\t<dd>0.00603314855184166</dd>\n",
       "\t<dt>$b</dt>\n",
       "\t\t<dd>5</dd>\n",
       "\t<dt>$c</dt>\n",
       "\t\t<dd>0.525017830473371</dd>\n",
       "</dl>\n"
      ],
      "text/latex": [
       "\\begin{description}\n",
       "\\item[\\$a] 0.00603314855184166\n",
       "\\item[\\$b] 5\n",
       "\\item[\\$c] 0.525017830473371\n",
       "\\end{description}\n"
      ],
      "text/markdown": [
       "$a\n",
       ":   0.00603314855184166\n",
       "$b\n",
       ":   5\n",
       "$c\n",
       ":   0.525017830473371\n",
       "\n",
       "\n"
      ],
      "text/plain": [
       "$a\n",
       "[1] 0.006033149\n",
       "\n",
       "$b\n",
       "[1] 5\n",
       "\n",
       "$c\n",
       "[1] 0.5250178\n"
      ]
     },
     "metadata": {},
     "output_type": "display_data"
    }
   ],
   "source": [
    "length(lst)\n",
    "lapply(lst, length)\n",
    "lapply(lst, mean)"
   ]
  },
  {
   "cell_type": "code",
   "execution_count": 17,
   "id": "deb15dc4",
   "metadata": {
    "scrolled": false,
    "slideshow": {
     "slide_type": "slide"
    }
   },
   "outputs": [
    {
     "data": {
      "text/html": [
       "<dl>\n",
       "\t<dt>$a</dt>\n",
       "\t\t<dd><dl>\n",
       "\t<dt>$a</dt>\n",
       "\t\t<dd><style>\n",
       ".list-inline {list-style: none; margin:0; padding: 0}\n",
       ".list-inline>li {display: inline-block}\n",
       ".list-inline>li:not(:last-child)::after {content: \"\\00b7\"; padding: 0 .5ex}\n",
       "</style>\n",
       "<ol class=list-inline><li>-1.26589644825265</li><li>-0.068573308896311</li><li>0.658409475454285</li><li>-0.221881865339709</li><li>0.58070039713217</li><li>0.630319389017115</li><li>-0.242213569358942</li><li>0.97023453146676</li><li>0.351854369172614</li><li>-1.33262148487691</li></ol>\n",
       "</dd>\n",
       "\t<dt>$b</dt>\n",
       "\t\t<dd><style>\n",
       ".list-inline {list-style: none; margin:0; padding: 0}\n",
       ".list-inline>li {display: inline-block}\n",
       ".list-inline>li:not(:last-child)::after {content: \"\\00b7\"; padding: 0 .5ex}\n",
       "</style>\n",
       "<ol class=list-inline><li>1</li><li>2</li><li>3</li><li>4</li><li>5</li><li>6</li><li>7</li><li>8</li><li>9</li></ol>\n",
       "</dd>\n",
       "\t<dt>$c</dt>\n",
       "\t\t<dd><style>\n",
       ".list-inline {list-style: none; margin:0; padding: 0}\n",
       ".list-inline>li {display: inline-block}\n",
       ".list-inline>li:not(:last-child)::after {content: \"\\00b7\"; padding: 0 .5ex}\n",
       "</style>\n",
       "<ol class=list-inline><li>0.181591403437778</li><li>0.164184056222439</li><li>0.390080413082615</li><li>0.657432082109153</li><li>0.256644821958616</li><li>0.564072602661327</li><li>0.525960478000343</li><li>0.604819754138589</li><li>0.951666688779369</li><li>0.97638466511853</li><li>0.508973858784884</li><li>0.284509904216975</li><li>0.563456729985774</li><li>0.968111847294495</li><li>0.453518448630348</li><li>0.633869176264852</li><li>0.606082778424025</li><li>0.908481978345662</li><li>0.129783247830346</li><li>0.170731674181297</li></ol>\n",
       "</dd>\n",
       "</dl>\n",
       "</dd>\n",
       "\t<dt>$b</dt>\n",
       "\t\t<dd><dl>\n",
       "\t<dt>$a</dt>\n",
       "\t\t<dd>0.00603314855184166</dd>\n",
       "\t<dt>$b</dt>\n",
       "\t\t<dd>5</dd>\n",
       "\t<dt>$c</dt>\n",
       "\t\t<dd>0.525017830473371</dd>\n",
       "</dl>\n",
       "</dd>\n",
       "</dl>\n"
      ],
      "text/latex": [
       "\\begin{description}\n",
       "\\item[\\$a] \\begin{description}\n",
       "\\item[\\$a] \\begin{enumerate*}\n",
       "\\item -1.26589644825265\n",
       "\\item -0.068573308896311\n",
       "\\item 0.658409475454285\n",
       "\\item -0.221881865339709\n",
       "\\item 0.58070039713217\n",
       "\\item 0.630319389017115\n",
       "\\item -0.242213569358942\n",
       "\\item 0.97023453146676\n",
       "\\item 0.351854369172614\n",
       "\\item -1.33262148487691\n",
       "\\end{enumerate*}\n",
       "\n",
       "\\item[\\$b] \\begin{enumerate*}\n",
       "\\item 1\n",
       "\\item 2\n",
       "\\item 3\n",
       "\\item 4\n",
       "\\item 5\n",
       "\\item 6\n",
       "\\item 7\n",
       "\\item 8\n",
       "\\item 9\n",
       "\\end{enumerate*}\n",
       "\n",
       "\\item[\\$c] \\begin{enumerate*}\n",
       "\\item 0.181591403437778\n",
       "\\item 0.164184056222439\n",
       "\\item 0.390080413082615\n",
       "\\item 0.657432082109153\n",
       "\\item 0.256644821958616\n",
       "\\item 0.564072602661327\n",
       "\\item 0.525960478000343\n",
       "\\item 0.604819754138589\n",
       "\\item 0.951666688779369\n",
       "\\item 0.97638466511853\n",
       "\\item 0.508973858784884\n",
       "\\item 0.284509904216975\n",
       "\\item 0.563456729985774\n",
       "\\item 0.968111847294495\n",
       "\\item 0.453518448630348\n",
       "\\item 0.633869176264852\n",
       "\\item 0.606082778424025\n",
       "\\item 0.908481978345662\n",
       "\\item 0.129783247830346\n",
       "\\item 0.170731674181297\n",
       "\\end{enumerate*}\n",
       "\n",
       "\\end{description}\n",
       "\n",
       "\\item[\\$b] \\begin{description}\n",
       "\\item[\\$a] 0.00603314855184166\n",
       "\\item[\\$b] 5\n",
       "\\item[\\$c] 0.525017830473371\n",
       "\\end{description}\n",
       "\n",
       "\\end{description}\n"
      ],
      "text/markdown": [
       "$a\n",
       ":   $a\n",
       ":   1. -1.26589644825265\n",
       "2. -0.068573308896311\n",
       "3. 0.658409475454285\n",
       "4. -0.221881865339709\n",
       "5. 0.58070039713217\n",
       "6. 0.630319389017115\n",
       "7. -0.242213569358942\n",
       "8. 0.97023453146676\n",
       "9. 0.351854369172614\n",
       "10. -1.33262148487691\n",
       "\n",
       "\n",
       "\n",
       "$b\n",
       ":   1. 1\n",
       "2. 2\n",
       "3. 3\n",
       "4. 4\n",
       "5. 5\n",
       "6. 6\n",
       "7. 7\n",
       "8. 8\n",
       "9. 9\n",
       "\n",
       "\n",
       "\n",
       "$c\n",
       ":   1. 0.181591403437778\n",
       "2. 0.164184056222439\n",
       "3. 0.390080413082615\n",
       "4. 0.657432082109153\n",
       "5. 0.256644821958616\n",
       "6. 0.564072602661327\n",
       "7. 0.525960478000343\n",
       "8. 0.604819754138589\n",
       "9. 0.951666688779369\n",
       "10. 0.97638466511853\n",
       "11. 0.508973858784884\n",
       "12. 0.284509904216975\n",
       "13. 0.563456729985774\n",
       "14. 0.968111847294495\n",
       "15. 0.453518448630348\n",
       "16. 0.633869176264852\n",
       "17. 0.606082778424025\n",
       "18. 0.908481978345662\n",
       "19. 0.129783247830346\n",
       "20. 0.170731674181297\n",
       "\n",
       "\n",
       "\n",
       "\n",
       "\n",
       "\n",
       "$b\n",
       ":   $a\n",
       ":   0.00603314855184166\n",
       "$b\n",
       ":   5\n",
       "$c\n",
       ":   0.525017830473371\n",
       "\n",
       "\n",
       "\n",
       "\n",
       "\n"
      ],
      "text/plain": [
       "$a\n",
       "$a$a\n",
       " [1] -1.26589645 -0.06857331  0.65840948 -0.22188187  0.58070040  0.63031939\n",
       " [7] -0.24221357  0.97023453  0.35185437 -1.33262148\n",
       "\n",
       "$a$b\n",
       "[1] 1 2 3 4 5 6 7 8 9\n",
       "\n",
       "$a$c\n",
       " [1] 0.1815914 0.1641841 0.3900804 0.6574321 0.2566448 0.5640726 0.5259605\n",
       " [8] 0.6048198 0.9516667 0.9763847 0.5089739 0.2845099 0.5634567 0.9681118\n",
       "[15] 0.4535184 0.6338692 0.6060828 0.9084820 0.1297832 0.1707317\n",
       "\n",
       "\n",
       "$b\n",
       "$b$a\n",
       "[1] 0.006033149\n",
       "\n",
       "$b$b\n",
       "[1] 5\n",
       "\n",
       "$b$c\n",
       "[1] 0.5250178\n",
       "\n"
      ]
     },
     "metadata": {},
     "output_type": "display_data"
    }
   ],
   "source": [
    "lst2 = list (a = lst, b = lapply(lst, mean))\n",
    "lst2"
   ]
  },
  {
   "cell_type": "code",
   "execution_count": 20,
   "id": "a8ca29d9",
   "metadata": {
    "scrolled": true,
    "slideshow": {
     "slide_type": "slide"
    }
   },
   "outputs": [
    {
     "data": {
      "text/html": [
       "<style>\n",
       ".dl-inline {width: auto; margin:0; padding: 0}\n",
       ".dl-inline>dt, .dl-inline>dd {float: none; width: auto; display: inline-block}\n",
       ".dl-inline>dt::after {content: \":\\0020\"; padding-right: .5ex}\n",
       ".dl-inline>dt:not(:first-of-type) {padding-left: .5ex}\n",
       "</style><dl class=dl-inline><dt>a.a</dt><dd>10</dd><dt>a.b</dt><dd>9</dd><dt>a.c</dt><dd>20</dd><dt>b.a</dt><dd>1</dd><dt>b.b</dt><dd>1</dd><dt>b.c</dt><dd>1</dd></dl>\n"
      ],
      "text/latex": [
       "\\begin{description*}\n",
       "\\item[a.a] 10\n",
       "\\item[a.b] 9\n",
       "\\item[a.c] 20\n",
       "\\item[b.a] 1\n",
       "\\item[b.b] 1\n",
       "\\item[b.c] 1\n",
       "\\end{description*}\n"
      ],
      "text/markdown": [
       "a.a\n",
       ":   10a.b\n",
       ":   9a.c\n",
       ":   20b.a\n",
       ":   1b.b\n",
       ":   1b.c\n",
       ":   1\n",
       "\n"
      ],
      "text/plain": [
       "a.a a.b a.c b.a b.b b.c \n",
       " 10   9  20   1   1   1 "
      ]
     },
     "metadata": {},
     "output_type": "display_data"
    },
    {
     "data": {
      "text/html": [
       "<dl>\n",
       "\t<dt>$a</dt>\n",
       "\t\t<dd><dl>\n",
       "\t<dt>$a</dt>\n",
       "\t\t<dd>10</dd>\n",
       "\t<dt>$b</dt>\n",
       "\t\t<dd>9</dd>\n",
       "\t<dt>$c</dt>\n",
       "\t\t<dd>20</dd>\n",
       "</dl>\n",
       "</dd>\n",
       "\t<dt>$b</dt>\n",
       "\t\t<dd><dl>\n",
       "\t<dt>$a</dt>\n",
       "\t\t<dd>1</dd>\n",
       "\t<dt>$b</dt>\n",
       "\t\t<dd>1</dd>\n",
       "\t<dt>$c</dt>\n",
       "\t\t<dd>1</dd>\n",
       "</dl>\n",
       "</dd>\n",
       "</dl>\n"
      ],
      "text/latex": [
       "\\begin{description}\n",
       "\\item[\\$a] \\begin{description}\n",
       "\\item[\\$a] 10\n",
       "\\item[\\$b] 9\n",
       "\\item[\\$c] 20\n",
       "\\end{description}\n",
       "\n",
       "\\item[\\$b] \\begin{description}\n",
       "\\item[\\$a] 1\n",
       "\\item[\\$b] 1\n",
       "\\item[\\$c] 1\n",
       "\\end{description}\n",
       "\n",
       "\\end{description}\n"
      ],
      "text/markdown": [
       "$a\n",
       ":   $a\n",
       ":   10\n",
       "$b\n",
       ":   9\n",
       "$c\n",
       ":   20\n",
       "\n",
       "\n",
       "\n",
       "$b\n",
       ":   $a\n",
       ":   1\n",
       "$b\n",
       ":   1\n",
       "$c\n",
       ":   1\n",
       "\n",
       "\n",
       "\n",
       "\n",
       "\n"
      ],
      "text/plain": [
       "$a\n",
       "$a$a\n",
       "[1] 10\n",
       "\n",
       "$a$b\n",
       "[1] 9\n",
       "\n",
       "$a$c\n",
       "[1] 20\n",
       "\n",
       "\n",
       "$b\n",
       "$b$a\n",
       "[1] 1\n",
       "\n",
       "$b$b\n",
       "[1] 1\n",
       "\n",
       "$b$c\n",
       "[1] 1\n",
       "\n"
      ]
     },
     "metadata": {},
     "output_type": "display_data"
    }
   ],
   "source": [
    "rapply(lst2, length)\n",
    "rapply(lst2, length, how=\"list\")"
   ]
  },
  {
   "cell_type": "code",
   "execution_count": 21,
   "id": "cda044fc",
   "metadata": {
    "slideshow": {
     "slide_type": "slide"
    }
   },
   "outputs": [],
   "source": [
    "lst1 = list (a = 4:6, b = 5:7)\n",
    "lst2 = list (a = 3:5, b = 8:10)"
   ]
  },
  {
   "cell_type": "code",
   "execution_count": 22,
   "id": "ef20eed7",
   "metadata": {
    "slideshow": {
     "slide_type": "slide"
    }
   },
   "outputs": [
    {
     "ename": "ERROR",
     "evalue": "Error in lst1 + lst2: non-numeric argument to binary operator\n",
     "output_type": "error",
     "traceback": [
      "Error in lst1 + lst2: non-numeric argument to binary operator\nTraceback:\n"
     ]
    }
   ],
   "source": [
    "lst1 + lst2 "
   ]
  },
  {
   "cell_type": "code",
   "execution_count": 25,
   "id": "d241f4c0",
   "metadata": {
    "slideshow": {
     "slide_type": "slide"
    }
   },
   "outputs": [
    {
     "data": {
      "text/html": [
       "<table class=\"dataframe\">\n",
       "<caption>A matrix: 3 × 2 of type int</caption>\n",
       "<thead>\n",
       "\t<tr><th scope=col>a</th><th scope=col>b</th></tr>\n",
       "</thead>\n",
       "<tbody>\n",
       "\t<tr><td> 7</td><td>13</td></tr>\n",
       "\t<tr><td> 9</td><td>15</td></tr>\n",
       "\t<tr><td>11</td><td>17</td></tr>\n",
       "</tbody>\n",
       "</table>\n"
      ],
      "text/latex": [
       "A matrix: 3 × 2 of type int\n",
       "\\begin{tabular}{ll}\n",
       " a & b\\\\\n",
       "\\hline\n",
       "\t  7 & 13\\\\\n",
       "\t  9 & 15\\\\\n",
       "\t 11 & 17\\\\\n",
       "\\end{tabular}\n"
      ],
      "text/markdown": [
       "\n",
       "A matrix: 3 × 2 of type int\n",
       "\n",
       "| a | b |\n",
       "|---|---|\n",
       "|  7 | 13 |\n",
       "|  9 | 15 |\n",
       "| 11 | 17 |\n",
       "\n"
      ],
      "text/plain": [
       "     a  b \n",
       "[1,]  7 13\n",
       "[2,]  9 15\n",
       "[3,] 11 17"
      ]
     },
     "metadata": {},
     "output_type": "display_data"
    }
   ],
   "source": [
    "mapply(\"+\", lst1, lst2)"
   ]
  },
  {
   "cell_type": "code",
   "execution_count": 26,
   "id": "e007d2c3",
   "metadata": {
    "slideshow": {
     "slide_type": "slide"
    }
   },
   "outputs": [
    {
     "data": {
      "text/html": [
       "<style>\n",
       ".dl-inline {width: auto; margin:0; padding: 0}\n",
       ".dl-inline>dt, .dl-inline>dd {float: none; width: auto; display: inline-block}\n",
       ".dl-inline>dt::after {content: \":\\0020\"; padding-right: .5ex}\n",
       ".dl-inline>dt:not(:first-of-type) {padding-left: .5ex}\n",
       "</style><dl class=dl-inline><dt>a</dt><dd>27</dd><dt>b</dt><dd>45</dd></dl>\n"
      ],
      "text/latex": [
       "\\begin{description*}\n",
       "\\item[a] 27\n",
       "\\item[b] 45\n",
       "\\end{description*}\n"
      ],
      "text/markdown": [
       "a\n",
       ":   27b\n",
       ":   45\n",
       "\n"
      ],
      "text/plain": [
       " a  b \n",
       "27 45 "
      ]
     },
     "metadata": {},
     "output_type": "display_data"
    }
   ],
   "source": [
    "mapply(sum, lst1, lst2)"
   ]
  },
  {
   "cell_type": "markdown",
   "id": "245b135c",
   "metadata": {
    "slideshow": {
     "slide_type": "slide"
    }
   },
   "source": [
    "## Functions\n",
    "\n",
    "- Create a function object\n",
    "\n",
    "        myFun = function (par)\n",
    "        {\n",
    "          out = max(par1) - min(par2)\n",
    "          return(out)\n",
    "        }\n",
    "\n",
    "- Load the function: \n",
    "    - Copy and paste to the R console.\n",
    "    - Save the function to a file and load it with the `source()` function.\n",
    "\n",
    "- Execute your function.\n",
    "\n"
   ]
  },
  {
   "cell_type": "code",
   "execution_count": 28,
   "id": "9fb114ea",
   "metadata": {},
   "outputs": [
    {
     "data": {
      "text/html": [
       "99"
      ],
      "text/latex": [
       "99"
      ],
      "text/markdown": [
       "99"
      ],
      "text/plain": [
       "[1] 99"
      ]
     },
     "metadata": {},
     "output_type": "display_data"
    }
   ],
   "source": [
    "maxmin = function (x){\n",
    "    out = max(x)-min(x)\n",
    "    return(out)\n",
    "}\n",
    "\n",
    "maxmin(1:100)"
   ]
  },
  {
   "cell_type": "code",
   "execution_count": 31,
   "id": "af028ea6",
   "metadata": {},
   "outputs": [
    {
     "data": {
      "text/html": [
       "99"
      ],
      "text/latex": [
       "99"
      ],
      "text/markdown": [
       "99"
      ],
      "text/plain": [
       "[1] 99"
      ]
     },
     "metadata": {},
     "output_type": "display_data"
    }
   ],
   "source": [
    "rm(list=ls())\n",
    "\n",
    "source(\"code/myfun.R\")\n",
    "maxmin(1:100)"
   ]
  },
  {
   "cell_type": "markdown",
   "id": "41599e82",
   "metadata": {
    "slideshow": {
     "slide_type": "slide"
    }
   },
   "source": [
    "## What is a good function?\n",
    "\n",
    "- Validating the input parameter type\n",
    "- Simple in logic and implementation\n",
    "- Error catching\n",
    "- Using `return()`\n",
    "- Speed and performance matter."
   ]
  },
  {
   "cell_type": "markdown",
   "id": "a25ab3a5",
   "metadata": {
    "slideshow": {
     "slide_type": "slide"
    }
   },
   "source": [
    "### Lab: a summary function\n",
    "\n",
    "-  Write a function `mySummary` where the input argument is `x` can be any vector and the output should contain the basic summary (mean, variance, length, max and minimum values, type) of the vector you have supplied to the function.\n",
    "\n",
    "-  Test your function with some vectors (that you make up by yourself).\n",
    "\n",
    "-  What will happen if your input is not a vector (e.g. a data frame `weekPlanNew`) in our previous example?"
   ]
  },
  {
   "cell_type": "markdown",
   "id": "9bdd2d4f",
   "metadata": {
    "slideshow": {
     "slide_type": "slide"
    }
   },
   "source": [
    "### Lab: Roots function for the quadratic equation\n",
    "\n",
    "- The roots for the quadratic equation $ax^2+bx+c=0$ are of the form\n",
    "    $$\\label{eq:1}\n",
    "            x_1=\\frac{-b + \\sqrt {b^2-4ac}}{2a} \\quad \\text{and} \\quad\n",
    "            x_2=\\frac{-b - \\sqrt {b^2-4ac}}{2a}$$\n",
    "\n",
    "-  Write a function named `quaroot` to solve the roots of given\n",
    "    quadratic equation with `a ,b , c,` as input arguments. \\[Hint: you\n",
    "    may need the `sqrt()` function\\]\n",
    "\n",
    "- Test your function on the following equations $$\\label{eq:2}\n",
    "        \\begin{split}\n",
    "          x^2+4x-1=0\\\\\n",
    "          -2x^2+2x=0\\\\\n",
    "          3x^2-9x+1=0\\\\\n",
    "          x^2 -4 = 0\\\\\n",
    "        \\end{split}$$\n",
    "\n",
    "- Test your function with the equation $5x^2+2x+1=0$. What are the\n",
    "    results? Why? \\[Hint: check $b^2-4ac$\\]?\n",
    "\n",
    "- Modify your function and return `NA` if $b^2-4ac < 0$.\n"
   ]
  },
  {
   "cell_type": "code",
   "execution_count": 5,
   "id": "cbbffd63",
   "metadata": {
    "slideshow": {
     "slide_type": "slide"
    }
   },
   "outputs": [],
   "source": [
    "quaroot <- function(a, b, c)\n",
    "{\n",
    "    x1 <- (-b+sqrt(b^2-4*a*c))/(2*a)\n",
    "    x2 <- (-b-sqrt(b^2-4*a*c))/(2*a)\n",
    "\n",
    "    out <- c(x1, x2)\n",
    "    return(out)\n",
    "}"
   ]
  },
  {
   "cell_type": "code",
   "execution_count": 6,
   "id": "f8d00547",
   "metadata": {
    "slideshow": {
     "slide_type": "slide"
    }
   },
   "outputs": [],
   "source": [
    "quarootm <- function(a, b, c)\n",
    "{\n",
    "    d <- b^2-4*a*c\n",
    "\n",
    "    if(d<0)\n",
    "    {\n",
    "        x1 <- NA\n",
    "        x2 <- NA\n",
    "    }\n",
    "    else\n",
    "    {\n",
    "        x1 <- (-b+sqrt(d))/(2*a)\n",
    "        x2 <- (-b-sqrt(d))/(2*a)\n",
    "    }\n",
    "\n",
    "    out <- c(x1, x2)\n",
    "    return(out)\n",
    "}"
   ]
  },
  {
   "cell_type": "markdown",
   "id": "ebb47936",
   "metadata": {
    "slideshow": {
     "slide_type": "slide"
    }
   },
   "source": [
    "## Using R packages\n",
    "\n",
    "-   Load an R package: `library(\"PackageName\")` or\n",
    "    `require(\"PackageName\")`\n",
    "\n",
    "-   Install an R package from the Internet (CRAN):\n",
    "    `install.packages(\"PackageName\")`"
   ]
  },
  {
   "cell_type": "markdown",
   "id": "34f22bcd",
   "metadata": {
    "slideshow": {
     "slide_type": "slide"
    }
   },
   "source": [
    "-   Install an R package from GitHub with the `devtools` package:\n",
    "   \n",
    "           install.packages(\"devtools\")\n",
    "           devtools::install_github(\"ykang/gratis\")\n",
    "    \n",
    "-   If you have Windows system and sometimes you R package needs to compile, you need the \"Rtools\" software for building packages for R under Microsoft Windows, available at [https://cran.r-project.org/bin/windows/Rtools/](https://cran.r-project.org/bin/windows/Rtools/)."
   ]
  },
  {
   "cell_type": "markdown",
   "id": "64c9276b",
   "metadata": {
    "slideshow": {
     "slide_type": "slide"
    }
   },
   "source": [
    "### Coding Style\n",
    "\n",
    "- Good coding style is like correct punctuation.\n",
    "- Bottom line: your coding style should make other people easy to understand you code.\n",
    "- Suggested reading the tidyverse style guide: [https://style.tidyverse.org/](https://style.tidyverse.org/)"
   ]
  }
 ],
 "metadata": {
  "celltoolbar": "Slideshow",
  "kernelspec": {
   "display_name": "R",
   "language": "R",
   "name": "ir"
  },
  "language_info": {
   "codemirror_mode": "r",
   "file_extension": ".r",
   "mimetype": "text/x-r-source",
   "name": "R",
   "pygments_lexer": "r",
   "version": "4.2.2"
  }
 },
 "nbformat": 4,
 "nbformat_minor": 5
}
